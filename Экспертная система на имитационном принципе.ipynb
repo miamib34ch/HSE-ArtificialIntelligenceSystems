{
  "cells": [
    {
      "cell_type": "markdown",
      "id": "636efd08-5733-4909-afb4-5a127575469d",
      "metadata": {
        "id": "636efd08-5733-4909-afb4-5a127575469d"
      },
      "source": [
        "Классы:\n",
        "0. Струнный\n",
        "1. Клавишный\n",
        "2. Духовой\n",
        "3. Ударный\n",
        "4. Смычковый\n",
        "5. Язычковые"
      ]
    },
    {
      "cell_type": "markdown",
      "source": [
        "Признаки\n",
        "0. Есть струны\n",
        "1. Есть клавиши\n",
        "2. Для игры надо дуть\n",
        "3. Для игры нужен смычок\n",
        "4. Для игры нужно электричество\n",
        "5. Для игры надо бить\n",
        "6. Звук извлекается не на прямую\n",
        "7. Сделано из дерева\n",
        "8. Инструмент держат в руках"
      ],
      "metadata": {
        "id": "d37rmWlcs0cV"
      },
      "id": "d37rmWlcs0cV"
    },
    {
      "cell_type": "code",
      "source": [
        "import numpy as np\n",
        "import seaborn as sns\n",
        "import matplotlib.pyplot as plt\n",
        "sns.set_theme()"
      ],
      "metadata": {
        "id": "v6hUJ4J4s3SH"
      },
      "id": "v6hUJ4J4s3SH",
      "execution_count": 33,
      "outputs": []
    },
    {
      "cell_type": "markdown",
      "source": [
        "# Суть работы"
      ],
      "metadata": {
        "id": "dOjMJjrpvsaW"
      },
      "id": "dOjMJjrpvsaW"
    },
    {
      "cell_type": "markdown",
      "source": [
        "Создаём матрицу для коэффициентов:"
      ],
      "metadata": {
        "id": "qYd54uFzstzV"
      },
      "id": "qYd54uFzstzV"
    },
    {
      "cell_type": "code",
      "execution_count": 75,
      "id": "02b44731-c813-4266-9625-967dc0f2614b",
      "metadata": {
        "colab": {
          "base_uri": "https://localhost:8080/"
        },
        "id": "02b44731-c813-4266-9625-967dc0f2614b",
        "outputId": "20b40470-b511-4e92-a971-56b742c0750c"
      },
      "outputs": [
        {
          "output_type": "execute_result",
          "data": {
            "text/plain": [
              "array([[0., 0., 0., 0., 0., 0., 0., 0., 0.],\n",
              "       [0., 0., 0., 0., 0., 0., 0., 0., 0.],\n",
              "       [0., 0., 0., 0., 0., 0., 0., 0., 0.],\n",
              "       [0., 0., 0., 0., 0., 0., 0., 0., 0.],\n",
              "       [0., 0., 0., 0., 0., 0., 0., 0., 0.],\n",
              "       [0., 0., 0., 0., 0., 0., 0., 0., 0.]])"
            ]
          },
          "metadata": {},
          "execution_count": 75
        }
      ],
      "source": [
        "arr = np.zeros((6, 9)) # классы, признаки\n",
        "classes = [\n",
        "    \"струнный\",\n",
        "    \"клавишный\",\n",
        "    \"духовой\",\n",
        "    \"ударный\",\n",
        "    \"смычковый\",\n",
        "    \"язычковые\",\n",
        "]\n",
        "arr"
      ]
    },
    {
      "cell_type": "markdown",
      "source": [
        "Функции для обучения и тестирования:"
      ],
      "metadata": {
        "id": "3UxS4ahVs9E6"
      },
      "id": "3UxS4ahVs9E6"
    },
    {
      "cell_type": "code",
      "execution_count": 76,
      "id": "49fd2c3c-4417-4e61-b178-9427c2b261db",
      "metadata": {
        "id": "49fd2c3c-4417-4e61-b178-9427c2b261db"
      },
      "outputs": [],
      "source": [
        "def fit(X, labels):\n",
        "    for x, label in zip(X, labels):\n",
        "        for i in range(arr.shape[0]):\n",
        "            if i == label:\n",
        "                arr[i] += x\n",
        "            else:\n",
        "                arr[i] -= x\n",
        "\n",
        "def test(X, labels):\n",
        "    total = 0\n",
        "    for x, label in zip(X, labels):\n",
        "        res = np.argmax(x @ arr.T)\n",
        "        total += label == res\n",
        "        print(\"Ожидалось:\", classes[label], \"Получилось:\", classes[res])\n",
        "    print(\"Доля правильных предсказаний:\", total/len(X))"
      ]
    },
    {
      "cell_type": "markdown",
      "source": [
        "Обучаем всем классам и тестируем:"
      ],
      "metadata": {
        "id": "0ezCeXzrtHIr"
      },
      "id": "0ezCeXzrtHIr"
    },
    {
      "cell_type": "code",
      "execution_count": 77,
      "id": "094f285b-60cf-4172-9d03-e4512de8f1df",
      "metadata": {
        "id": "094f285b-60cf-4172-9d03-e4512de8f1df",
        "colab": {
          "base_uri": "https://localhost:8080/"
        },
        "outputId": "780ac344-f404-478c-e99a-d6c95f5a8ec8"
      },
      "outputs": [
        {
          "output_type": "stream",
          "name": "stdout",
          "text": [
            "[[-1. -1. -2. -1.  0. -1. -1. -1. -2.]\n",
            " [-1.  1. -2. -1.  0. -1. -1. -1. -4.]\n",
            " [-3. -1.  0. -1.  0. -1. -1. -3. -2.]\n",
            " [-3. -1. -2. -1.  0.  1. -1. -3. -4.]\n",
            " [-1. -1. -2.  1.  0. -1. -1. -1. -2.]\n",
            " [-3. -1.  0. -1.  0. -1.  1. -3. -2.]]\n",
            "Ожидалось: струнный Получилось: струнный\n",
            "Ожидалось: смычковый Получилось: смычковый\n",
            "Ожидалось: клавишный Получилось: клавишный\n",
            "Ожидалось: язычковые Получилось: язычковые\n",
            "Ожидалось: ударный Получилось: ударный\n",
            "Ожидалось: духовой Получилось: духовой\n",
            "Доля правильных предсказаний: 1.0\n"
          ]
        }
      ],
      "source": [
        "X = np.array([\n",
        "    [1, 0, 0, 0, 0, 0, 0, 1, 1], # струнный (например, деревянная гитара)\n",
        "    [1, 0, 0, 1, 0, 0, 0, 1, 1], # смычковый\n",
        "    [1, 1, 0, 0, 0, 0, 0, 1, 0], # клавишный\n",
        "    [0, 0, 1, 0, 0, 0, 1, 0, 1], # язычковый\n",
        "    [0, 0, 0, 0, 0, 1, 0, 0, 0], # ударный\n",
        "    [0, 0, 1, 0, 0, 0, 0, 0, 1] # духовой\n",
        "])\n",
        "labels = [0, 4, 1, 5, 3, 2]\n",
        "fit(X, labels)\n",
        "print(arr)\n",
        "test(X, labels)"
      ]
    },
    {
      "cell_type": "markdown",
      "source": [
        "Теперь предъявим абсолютно новый объект, но уже известного класса:"
      ],
      "metadata": {
        "id": "w_HKX8TqvA2f"
      },
      "id": "w_HKX8TqvA2f"
    },
    {
      "cell_type": "code",
      "source": [
        "X = np.array([\n",
        "    [1, 0, 0, 0, 0, 0, 0, 0, 1] # гитара но металлическая\n",
        "])\n",
        "labels = [0]\n",
        "print(arr)\n",
        "test(X, labels)"
      ],
      "metadata": {
        "colab": {
          "base_uri": "https://localhost:8080/"
        },
        "id": "JmfKwY4DsdsE",
        "outputId": "1dc0fb51-4991-446d-e672-17b852f55233"
      },
      "id": "JmfKwY4DsdsE",
      "execution_count": 78,
      "outputs": [
        {
          "output_type": "stream",
          "name": "stdout",
          "text": [
            "[[-1. -1. -2. -1.  0. -1. -1. -1. -2.]\n",
            " [-1.  1. -2. -1.  0. -1. -1. -1. -4.]\n",
            " [-3. -1.  0. -1.  0. -1. -1. -3. -2.]\n",
            " [-3. -1. -2. -1.  0.  1. -1. -3. -4.]\n",
            " [-1. -1. -2.  1.  0. -1. -1. -1. -2.]\n",
            " [-3. -1.  0. -1.  0. -1.  1. -3. -2.]]\n",
            "Ожидалось: струнный Получилось: струнный\n",
            "Доля правильных предсказаний: 1.0\n"
          ]
        }
      ]
    },
    {
      "cell_type": "code",
      "source": [
        "X = np.array([\n",
        "    [0, 0, 0, 0, 1, 1, 0, 0, 0] # барабан, который требует электричества для игры\n",
        "])\n",
        "labels = [3]\n",
        "print(arr)\n",
        "test(X, labels)"
      ],
      "metadata": {
        "colab": {
          "base_uri": "https://localhost:8080/"
        },
        "id": "hIVL7x8Yw-JE",
        "outputId": "c77af1da-0981-4a5f-abfb-fdaaf682101a"
      },
      "id": "hIVL7x8Yw-JE",
      "execution_count": 79,
      "outputs": [
        {
          "output_type": "stream",
          "name": "stdout",
          "text": [
            "[[-1. -1. -2. -1.  0. -1. -1. -1. -2.]\n",
            " [-1.  1. -2. -1.  0. -1. -1. -1. -4.]\n",
            " [-3. -1.  0. -1.  0. -1. -1. -3. -2.]\n",
            " [-3. -1. -2. -1.  0.  1. -1. -3. -4.]\n",
            " [-1. -1. -2.  1.  0. -1. -1. -1. -2.]\n",
            " [-3. -1.  0. -1.  0. -1.  1. -3. -2.]]\n",
            "Ожидалось: ударный Получилось: ударный\n",
            "Доля правильных предсказаний: 1.0\n"
          ]
        }
      ]
    },
    {
      "cell_type": "markdown",
      "source": [
        "# Показ дообучения"
      ],
      "metadata": {
        "id": "0z7OzgXwwhdX"
      },
      "id": "0z7OzgXwwhdX"
    },
    {
      "cell_type": "code",
      "source": [
        "X = np.array([\n",
        "    [0, 0, 0, 0, 0, 1, 0, 0, 1] # переносной барабан\n",
        "])\n",
        "labels = [3]\n",
        "print(arr)\n",
        "test(X, labels)"
      ],
      "metadata": {
        "colab": {
          "base_uri": "https://localhost:8080/"
        },
        "id": "tGWEs17wwl_d",
        "outputId": "fe3b07a0-d706-4bcc-f75d-11a1e4c6a7db"
      },
      "id": "tGWEs17wwl_d",
      "execution_count": 80,
      "outputs": [
        {
          "output_type": "stream",
          "name": "stdout",
          "text": [
            "[[-1. -1. -2. -1.  0. -1. -1. -1. -2.]\n",
            " [-1.  1. -2. -1.  0. -1. -1. -1. -4.]\n",
            " [-3. -1.  0. -1.  0. -1. -1. -3. -2.]\n",
            " [-3. -1. -2. -1.  0.  1. -1. -3. -4.]\n",
            " [-1. -1. -2.  1.  0. -1. -1. -1. -2.]\n",
            " [-3. -1.  0. -1.  0. -1.  1. -3. -2.]]\n",
            "Ожидалось: ударный Получилось: струнный\n",
            "Доля правильных предсказаний: 0.0\n"
          ]
        }
      ]
    },
    {
      "cell_type": "markdown",
      "source": [
        "Неправильный результат, нужно дообучить модель:"
      ],
      "metadata": {
        "id": "7d-hTSupxvut"
      },
      "id": "7d-hTSupxvut"
    },
    {
      "cell_type": "code",
      "source": [
        "fit(X, labels)\n",
        "print(arr)\n",
        "test(X, labels)"
      ],
      "metadata": {
        "colab": {
          "base_uri": "https://localhost:8080/"
        },
        "id": "0-QDwlQnx2cH",
        "outputId": "cbf9bef1-e449-4e8b-e6c7-90ed041d0171"
      },
      "id": "0-QDwlQnx2cH",
      "execution_count": 81,
      "outputs": [
        {
          "output_type": "stream",
          "name": "stdout",
          "text": [
            "[[-1. -1. -2. -1.  0. -2. -1. -1. -3.]\n",
            " [-1.  1. -2. -1.  0. -2. -1. -1. -5.]\n",
            " [-3. -1.  0. -1.  0. -2. -1. -3. -3.]\n",
            " [-3. -1. -2. -1.  0.  2. -1. -3. -3.]\n",
            " [-1. -1. -2.  1.  0. -2. -1. -1. -3.]\n",
            " [-3. -1.  0. -1.  0. -2.  1. -3. -3.]]\n",
            "Ожидалось: ударный Получилось: ударный\n",
            "Доля правильных предсказаний: 1.0\n"
          ]
        }
      ]
    },
    {
      "cell_type": "markdown",
      "source": [
        "Теперь проведём контрольную экспертизу по всем ранне предъявленным объектам, чтобы проверить, что коэффиценты не сбились.\n"
      ],
      "metadata": {
        "id": "2ciAo-w4x4en"
      },
      "id": "2ciAo-w4x4en"
    },
    {
      "cell_type": "code",
      "source": [
        "X = np.array([\n",
        "    [1, 0, 0, 0, 0, 0, 0, 1, 1], # струнный (например, деревянная гитара)\n",
        "    [1, 0, 0, 1, 0, 0, 0, 1, 1], # смычковый\n",
        "    [1, 1, 0, 0, 0, 0, 0, 1, 0], # клавишный\n",
        "    [0, 0, 1, 0, 0, 0, 1, 0, 1], # язычковый\n",
        "    [0, 0, 0, 0, 0, 1, 0, 0, 0], # ударный\n",
        "    [0, 0, 1, 0, 0, 0, 0, 0, 1], # духовой\n",
        "    [1, 0, 0, 0, 0, 0, 0, 0, 1], # гитара но металлическая\n",
        "    [0, 0, 0, 0, 1, 1, 0, 0, 0], # барабан, который требует электричества для игры\n",
        "    [0, 0, 0, 0, 0, 1, 0, 0, 1] # переносной барабан\n",
        "])\n",
        "labels = [0, 4, 1, 5, 3, 2, 0, 3, 3]\n",
        "print(arr)\n",
        "test(X, labels)"
      ],
      "metadata": {
        "colab": {
          "base_uri": "https://localhost:8080/"
        },
        "id": "S1xCEG7fyDlz",
        "outputId": "70018640-6286-4b87-d272-aad021c2564b"
      },
      "id": "S1xCEG7fyDlz",
      "execution_count": 82,
      "outputs": [
        {
          "output_type": "stream",
          "name": "stdout",
          "text": [
            "[[-1. -1. -2. -1.  0. -2. -1. -1. -3.]\n",
            " [-1.  1. -2. -1.  0. -2. -1. -1. -5.]\n",
            " [-3. -1.  0. -1.  0. -2. -1. -3. -3.]\n",
            " [-3. -1. -2. -1.  0.  2. -1. -3. -3.]\n",
            " [-1. -1. -2.  1.  0. -2. -1. -1. -3.]\n",
            " [-3. -1.  0. -1.  0. -2.  1. -3. -3.]]\n",
            "Ожидалось: струнный Получилось: струнный\n",
            "Ожидалось: смычковый Получилось: смычковый\n",
            "Ожидалось: клавишный Получилось: клавишный\n",
            "Ожидалось: язычковые Получилось: язычковые\n",
            "Ожидалось: ударный Получилось: ударный\n",
            "Ожидалось: духовой Получилось: духовой\n",
            "Ожидалось: струнный Получилось: струнный\n",
            "Ожидалось: ударный Получилось: ударный\n",
            "Ожидалось: ударный Получилось: ударный\n",
            "Доля правильных предсказаний: 1.0\n"
          ]
        }
      ]
    },
    {
      "cell_type": "markdown",
      "source": [
        "Теперь модель доучена и определяет всё, чему обучали, правильно."
      ],
      "metadata": {
        "id": "3AswO7FEyYRP"
      },
      "id": "3AswO7FEyYRP"
    },
    {
      "cell_type": "markdown",
      "source": [
        "# Показ переобучения"
      ],
      "metadata": {
        "id": "4EL1pCfZvwUo"
      },
      "id": "4EL1pCfZvwUo"
    },
    {
      "cell_type": "markdown",
      "source": [
        "Обучим модель ещё раз на одном примере из класса струнных:"
      ],
      "metadata": {
        "id": "Pyy8iz7-vM-h"
      },
      "id": "Pyy8iz7-vM-h"
    },
    {
      "cell_type": "code",
      "source": [
        "X = np.array([\n",
        "    [1, 0, 0, 0, 0, 0, 0, 0, 1] # гитара но металлическая\n",
        "])\n",
        "labels = [0]\n",
        "fit(X, labels)\n",
        "print(arr)\n",
        "test(X, labels)"
      ],
      "metadata": {
        "colab": {
          "base_uri": "https://localhost:8080/"
        },
        "id": "qVnvl1tovXS8",
        "outputId": "33602011-2332-4069-f6a5-0437de5438d6"
      },
      "id": "qVnvl1tovXS8",
      "execution_count": 73,
      "outputs": [
        {
          "output_type": "stream",
          "name": "stdout",
          "text": [
            "[[ 0. -1. -2. -1.  0. -2. -1. -1. -2.]\n",
            " [-2.  1. -2. -1.  0. -2. -1. -1. -6.]\n",
            " [-4. -1.  0. -1.  0. -2. -1. -3. -4.]\n",
            " [-4. -1. -2. -1.  0.  2. -1. -3. -4.]\n",
            " [-2. -1. -2.  1.  0. -2. -1. -1. -4.]\n",
            " [-4. -1.  0. -1.  0. -2.  1. -3. -4.]]\n",
            "Ожидалось: струнный Получилось: струнный\n",
            "Доля правильных предсказаний: 1.0\n"
          ]
        }
      ]
    },
    {
      "cell_type": "markdown",
      "source": [
        "После обучения снова контрольная экспертиза:"
      ],
      "metadata": {
        "id": "pDeaVJiEvaEB"
      },
      "id": "pDeaVJiEvaEB"
    },
    {
      "cell_type": "code",
      "source": [
        "X = np.array([\n",
        "    [1, 0, 0, 0, 0, 0, 0, 1, 1], # струнный (например, деревянная гитара)\n",
        "    [1, 0, 0, 1, 0, 0, 0, 1, 1], # смычковый\n",
        "    [1, 1, 0, 0, 0, 0, 0, 1, 0], # клавишный\n",
        "    [0, 0, 1, 0, 0, 0, 1, 0, 1], # язычковый\n",
        "    [0, 0, 0, 0, 0, 1, 0, 0, 0], # ударный\n",
        "    [0, 0, 1, 0, 0, 0, 0, 0, 1], # духовой\n",
        "    [1, 0, 0, 0, 0, 0, 0, 0, 1], # гитара но металлическая\n",
        "    [0, 0, 0, 0, 1, 1, 0, 0, 0], # барабан, который требует электричества для игры\n",
        "    [0, 0, 0, 0, 0, 1, 0, 0, 1] # переносной барабан\n",
        "])\n",
        "labels = [0, 4, 1, 5, 3, 2, 0, 3, 3]\n",
        "print(arr)\n",
        "test(X, labels)"
      ],
      "metadata": {
        "colab": {
          "base_uri": "https://localhost:8080/"
        },
        "id": "VcAXetNdvdkw",
        "outputId": "ac0744d7-f0f5-4814-a680-867522d89ef0"
      },
      "id": "VcAXetNdvdkw",
      "execution_count": 74,
      "outputs": [
        {
          "output_type": "stream",
          "name": "stdout",
          "text": [
            "[[ 0. -1. -2. -1.  0. -2. -1. -1. -2.]\n",
            " [-2.  1. -2. -1.  0. -2. -1. -1. -6.]\n",
            " [-4. -1.  0. -1.  0. -2. -1. -3. -4.]\n",
            " [-4. -1. -2. -1.  0.  2. -1. -3. -4.]\n",
            " [-2. -1. -2.  1.  0. -2. -1. -1. -4.]\n",
            " [-4. -1.  0. -1.  0. -2.  1. -3. -4.]]\n",
            "Ожидалось: струнный Получилось: струнный\n",
            "Ожидалось: смычковый Получилось: струнный\n",
            "Ожидалось: клавишный Получилось: струнный\n",
            "Ожидалось: язычковые Получилось: язычковые\n",
            "Ожидалось: ударный Получилось: ударный\n",
            "Ожидалось: духовой Получилось: струнный\n",
            "Ожидалось: струнный Получилось: струнный\n",
            "Ожидалось: ударный Получилось: ударный\n",
            "Ожидалось: ударный Получилось: ударный\n",
            "Доля правильных предсказаний: 0.6666666666666666\n"
          ]
        }
      ]
    },
    {
      "cell_type": "markdown",
      "source": [
        "Система переобучилась и теперь больше склонна к струнным (коэффициенты сбились), надо переучивать!"
      ],
      "metadata": {
        "id": "ZZj7L8QIvgnS"
      },
      "id": "ZZj7L8QIvgnS"
    },
    {
      "cell_type": "markdown",
      "source": [
        "## Визуализация"
      ],
      "metadata": {
        "id": "oyGchTKzzOPa"
      },
      "id": "oyGchTKzzOPa"
    },
    {
      "cell_type": "markdown",
      "source": [
        "## Дальность между классами"
      ],
      "metadata": {
        "id": "ePic7tTF2He2"
      },
      "id": "ePic7tTF2He2"
    },
    {
      "cell_type": "markdown",
      "source": [
        "Посмотрим, как далеко классы находятся друг от друга (модель взята с этапа дообучения)"
      ],
      "metadata": {
        "id": "_2TLBYxJzSnV"
      },
      "id": "_2TLBYxJzSnV"
    },
    {
      "cell_type": "code",
      "execution_count": 83,
      "id": "c9af046e-49d0-4c8a-94f8-bce5a8de1a6a",
      "metadata": {
        "colab": {
          "base_uri": "https://localhost:8080/"
        },
        "id": "c9af046e-49d0-4c8a-94f8-bce5a8de1a6a",
        "outputId": "f519b5d4-1edd-4484-c744-36cb77307230"
      },
      "outputs": [
        {
          "output_type": "stream",
          "name": "stdout",
          "text": [
            "0  4  6  8  2  8  \n",
            "4  0  10 12 6  12 \n",
            "6  10 0  6  8  2  \n",
            "8  12 6  0  10 8  \n",
            "2  6  8  10 0  10 \n",
            "8  12 2  8  10 0  \n"
          ]
        }
      ],
      "source": [
        "q = []\n",
        "for i, a in enumerate(arr):\n",
        "    q.append([])\n",
        "    for y, b in enumerate(arr):\n",
        "        q[-1].append(sum(abs(a-b)))\n",
        "        print(f\"{sum(abs(a-b)):<2.0f}\", end=' ')\n",
        "    print()"
      ]
    },
    {
      "cell_type": "code",
      "execution_count": 84,
      "id": "f09daa1c-b030-48fd-94b1-24aaf85bc876",
      "metadata": {
        "colab": {
          "base_uri": "https://localhost:8080/",
          "height": 520
        },
        "id": "f09daa1c-b030-48fd-94b1-24aaf85bc876",
        "outputId": "b2b8c473-75ec-4577-b8ba-b1e04f3050cc"
      },
      "outputs": [
        {
          "output_type": "display_data",
          "data": {
            "text/plain": [
              "<Figure size 640x480 with 2 Axes>"
            ],
            "image/png": "[encoded data removed]"
          },
          "metadata": {}
        }
      ],
      "source": [
        "sns.heatmap(q, annot=True)\n",
        "plt.xticks(range(len(classes)), classes, rotation='vertical')\n",
        "plt.yticks(range(len(classes)), classes, rotation='horizontal');"
      ]
    },
    {
      "cell_type": "markdown",
      "source": [
        "## Линейные уравнения"
      ],
      "metadata": {
        "id": "g1qUUlX32LHo"
      },
      "id": "g1qUUlX32LHo"
    },
    {
      "cell_type": "markdown",
      "source": [
        "Составим линейные уравнения для каждого класса, коэффциенты получаются из нашей матрицы"
      ],
      "metadata": {
        "id": "1AcyT7iHzsmg"
      },
      "id": "1AcyT7iHzsmg"
    },
    {
      "cell_type": "code",
      "source": [
        "arr"
      ],
      "metadata": {
        "colab": {
          "base_uri": "https://localhost:8080/"
        },
        "id": "Gdc1d6uOz08f",
        "outputId": "d08dedbd-83ff-46a1-da72-dc337f9a55ff"
      },
      "id": "Gdc1d6uOz08f",
      "execution_count": 87,
      "outputs": [
        {
          "output_type": "execute_result",
          "data": {
            "text/plain": [
              "array([[-1., -1., -2., -1.,  0., -2., -1., -1., -3.],\n",
              "       [-1.,  1., -2., -1.,  0., -2., -1., -1., -5.],\n",
              "       [-3., -1.,  0., -1.,  0., -2., -1., -3., -3.],\n",
              "       [-3., -1., -2., -1.,  0.,  2., -1., -3., -3.],\n",
              "       [-1., -1., -2.,  1.,  0., -2., -1., -1., -3.],\n",
              "       [-3., -1.,  0., -1.,  0., -2.,  1., -3., -3.]])"
            ]
          },
          "metadata": {},
          "execution_count": 87
        }
      ]
    },
    {
      "cell_type": "code",
      "execution_count": 88,
      "id": "380cf33a-b39a-42fe-83fb-6ee9085d1b05",
      "metadata": {
        "colab": {
          "base_uri": "https://localhost:8080/"
        },
        "id": "380cf33a-b39a-42fe-83fb-6ee9085d1b05",
        "outputId": "f0adb08c-a872-4e89-c766-7c8fb5fb67d3"
      },
      "outputs": [
        {
          "output_type": "stream",
          "name": "stdout",
          "text": [
            "y0=-1*x0-1*x1-2*x2-1*x3+0*x4-2*x5-1*x6-1*x7-3*x8\n",
            "y1=-1*x0+1*x1-2*x2-1*x3+0*x4-2*x5-1*x6-1*x7-5*x8\n",
            "y2=-3*x0-1*x1+0*x2-1*x3+0*x4-2*x5-1*x6-3*x7-3*x8\n",
            "y3=-3*x0-1*x1-2*x2-1*x3+0*x4+2*x5-1*x6-3*x7-3*x8\n",
            "y4=-1*x0-1*x1-2*x2+1*x3+0*x4-2*x5-1*x6-1*x7-3*x8\n",
            "y5=-3*x0-1*x1+0*x2-1*x3+0*x4-2*x5+1*x6-3*x7-3*x8\n"
          ]
        }
      ],
      "source": [
        "for y, a in enumerate(arr):\n",
        "    print(f\"y{y}=\",end ='')\n",
        "    for i, elem in enumerate(a):\n",
        "        print(f\"{elem:+.0f}*x{i}\", end='')\n",
        "    print()"
      ]
    },
    {
      "cell_type": "markdown",
      "source": [
        "## График в линейном пространстве"
      ],
      "metadata": {
        "id": "nFHB3V6_2OTA"
      },
      "id": "nFHB3V6_2OTA"
    },
    {
      "cell_type": "markdown",
      "source": [
        " Точки будут представлять различные инструменты в пространстве, определенном параметрами c1 (есть струны) и c2 (нужно бить). Метки инструментов будут указаны рядом с соответствующими точками, что позволяет визуализировать отличия между инструментами в выбранных направлениях."
      ],
      "metadata": {
        "id": "UpQKu-_c2o52"
      },
      "id": "UpQKu-_c2o52"
    },
    {
      "cell_type": "code",
      "execution_count": 98,
      "id": "1e26e651-744b-4b7c-a074-8c43d9cdac70",
      "metadata": {
        "id": "1e26e651-744b-4b7c-a074-8c43d9cdac70"
      },
      "outputs": [],
      "source": [
        "X = np.array([\n",
        "    [1, 0, 0, 0, 0, 0, 0, 1, 1], # деревяная гитара\n",
        "    [1, 0, 0, 1, 0, 0, 0, 1, 1], # смычковый инструмент\n",
        "    [1, 1, 0, 0, 0, 0, 0, 1, 0], # клавишный инструмент\n",
        "    [0, 0, 1, 0, 0, 0, 1, 0, 1], # язычковый инструмент\n",
        "    [0, 0, 0, 0, 0, 1, 0, 0, 0], # ударный инструмент\n",
        "    [0, 0, 1, 0, 0, 0, 0, 0, 1], # духовой инструмент\n",
        "    [1, 0, 0, 0, 0, 0, 0, 0, 1], # металическая гитара\n",
        "    [0, 0, 0, 0, 1, 1, 0, 0, 0], # барабан, который требует электричества для игры\n",
        "    [0, 0, 0, 0, 0, 1, 0, 0, 1] # переносной барабан\n",
        "])\n",
        "label = [\"деревянная гитара\", \"смычковый инструмент\", \"клавишный инструмент\", \"язычковый инструмент\", \"ударный инструмент\", \"духовой инструмент\", \"металическая гитара\", \"электрический барабан\", \"переносной барабан\"]"
      ]
    },
    {
      "cell_type": "code",
      "execution_count": 99,
      "id": "dcb79260-480d-4eb9-bc09-2a17615466df",
      "metadata": {
        "colab": {
          "base_uri": "https://localhost:8080/",
          "height": 556
        },
        "id": "dcb79260-480d-4eb9-bc09-2a17615466df",
        "outputId": "2e3c8753-8ab2-4a03-da03-6a3441a06395"
      },
      "outputs": [
        {
          "output_type": "stream",
          "name": "stdout",
          "text": [
            "1 0 деревянная гитара\n",
            "1 0 смычковый инструмент\n",
            "1 0 клавишный инструмент\n",
            "0 1 ударный инструмент\n",
            "1 0 металическая гитара\n",
            "0 1 электрический барабан\n",
            "0 1 переносной барабан\n"
          ]
        },
        {
          "output_type": "display_data",
          "data": {
            "text/plain": [
              "<Figure size 640x480 with 1 Axes>"
            ],
            "image/png": "[encoded data removed]"
          },
          "metadata": {}
        }
      ],
      "source": [
        "ax = np.linspace(-10, 10, 1000)\n",
        "c1 = 0 #x\n",
        "c2 = 5 #y\n",
        "\n",
        "plt.axvline(x = 0, color = 'k')\n",
        "plt.axhline(y = 0, color = 'k')\n",
        "plt.plot(ax, ax, ls=\"--\", c=\".3\")\n",
        "\n",
        "max_=5\n",
        "plt.xlim((-max_, max_))\n",
        "plt.ylim((-max_, max_))\n",
        "for i, a in enumerate(arr):\n",
        "    plt.plot(ax * a[c1], ax*a[c2], label=classes[i])\n",
        "\n",
        "x = []\n",
        "y = []\n",
        "for i, item in enumerate(X):\n",
        "    x.append(item[c1])\n",
        "    y.append(item[c2])\n",
        "    if item[c1] != 0 or item[c2] != 0:\n",
        "        print(item[c1], item[c2], label[i],)\n",
        "        plt.text(item[c1], item[c2], label[i], fontsize=8)\n",
        "\n",
        "sns.scatterplot(x=x, y=y)\n",
        "\n",
        "\n",
        "plt.legend();"
      ]
    }
  ],
  "metadata": {
    "kernelspec": {
      "display_name": "Python 3 (ipykernel)",
      "language": "python",
      "name": "python3"
    },
    "language_info": {
      "codemirror_mode": {
        "name": "ipython",
        "version": 3
      },
      "file_extension": ".py",
      "mimetype": "text/x-python",
      "name": "python",
      "nbconvert_exporter": "python",
      "pygments_lexer": "ipython3",
      "version": "3.10.4"
    },
    "colab": {
      "provenance": [],
      "collapsed_sections": [
        "dOjMJjrpvsaW",
        "0z7OzgXwwhdX"
      ]
    }
  },
  "nbformat": 4,
  "nbformat_minor": 5
}