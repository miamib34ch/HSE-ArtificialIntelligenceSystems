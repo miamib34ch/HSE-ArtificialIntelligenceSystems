{
  "cells": [
    {
      "cell_type": "code",
      "execution_count": null,
      "id": "0c59606f-9ab9-4ae3-a8db-aa428a73c8fd",
      "metadata": {
        "id": "0c59606f-9ab9-4ae3-a8db-aa428a73c8fd"
      },
      "outputs": [],
      "source": [
        "import re\n",
        "from collections import defaultdict\n",
        "import numpy as np\n",
        "import pandas as pd"
      ]
    },
    {
      "cell_type": "markdown",
      "source": [
        "Функция по очистке текста от знаков препинания:"
      ],
      "metadata": {
        "id": "z76WcHfEDaE7"
      },
      "id": "z76WcHfEDaE7"
    },
    {
      "cell_type": "code",
      "execution_count": null,
      "id": "3526874c-6cb5-47a0-af67-a940496de2ae",
      "metadata": {
        "id": "3526874c-6cb5-47a0-af67-a940496de2ae"
      },
      "outputs": [],
      "source": [
        "punct = \"!\\\"#$%&'()*+,-./:;<=>?@[\\\\]^_{|}~—\"\n",
        "\n",
        "def clear_text(text):\n",
        "    text = text.lower()\n",
        "    return text.translate(str.maketrans(\"\", \"\", punct)).replace(\"\\n\", \" \").strip()"
      ]
    },
    {
      "cell_type": "markdown",
      "source": [
        "Текст для анализа с расставленными ударениями:"
      ],
      "metadata": {
        "id": "W6c9rfqAEUh4"
      },
      "id": "W6c9rfqAEUh4"
    },
    {
      "cell_type": "code",
      "execution_count": null,
      "id": "9b8734c4-beca-4051-8c8e-f4b7ea18f43c",
      "metadata": {
        "id": "9b8734c4-beca-4051-8c8e-f4b7ea18f43c",
        "outputId": "43f28b28-a9b0-44ef-948f-e5141adfeb70",
        "colab": {
          "base_uri": "https://localhost:8080/",
          "height": 55
        }
      },
      "outputs": [
        {
          "output_type": "execute_result",
          "data": {
            "text/plain": [
              "'беле`ет па`рус одино`кий в тума`не мо`ря голубо`м что` ище`т о`н в стране` далё`кой что` ки`нул о`н в краю` родно`м  игра`ют во`лны  ве`тер сви`щет и ма`чта гнё`тся и скрипи`т увы` о`н сча`стия не ище`т и не от сча`стия бежи`т  под ни`м струя` светле`й лазу`ри над ни`м лу`ч со`лнца золото`й а о`н мяте`жный про`сит бу`ри ка`к будто` в бу`рях е`сть поко`й'"
            ],
            "application/vnd.google.colaboratory.intrinsic+json": {
              "type": "string"
            }
          },
          "metadata": {},
          "execution_count": 10
        }
      ],
      "source": [
        "# М. Лермонтов «Белеет парус одинокий»\n",
        "\n",
        "text = \"\"\"\n",
        "Беле`ет па`рус одино`кий\n",
        "В тума`не мо`ря голубо`м!..\n",
        "Что` ище`т о`н в стране` далё`кой?\n",
        "Что` ки`нул о`н в краю` родно`м?...\n",
        "\n",
        "Игра`ют во`лны — ве`тер сви`щет,\n",
        "И ма`чта гнё`тся и скрипи`т...\n",
        "Увы`! О`н сча`стия не ище`т\n",
        "И не от сча`стия бежи`т!\n",
        "\n",
        "Под ни`м струя` светле`й лазу`ри,\n",
        "Над ни`м лу`ч со`лнца золото`й...\n",
        "А о`н, мяте`жный, про`сит бу`ри,\n",
        "Ка`к будто` в бу`рях е`сть поко`й!\n",
        "\"\"\"\n",
        "text = clear_text(text)\n",
        "text"
      ]
    },
    {
      "cell_type": "markdown",
      "source": [
        "Подсчитываем количество звуков.\n",
        "\n",
        "Правила подсчета:\n",
        "1.\tУдарные звуки, как более важные, учитываются в сумме с коэффициентом 2.\n",
        "2.\tПервый звук в слове, как более важный, учитывается в сумме с коэффициентом 4.\n"
      ],
      "metadata": {
        "id": "sU3N3LFsEDID"
      },
      "id": "sU3N3LFsEDID"
    },
    {
      "cell_type": "code",
      "execution_count": null,
      "id": "9bd94695-1e08-4378-a5a5-e7582df25199",
      "metadata": {
        "id": "9bd94695-1e08-4378-a5a5-e7582df25199",
        "outputId": "562932b3-62c0-4253-a757-77956055c703",
        "colab": {
          "base_uri": "https://localhost:8080/"
        }
      },
      "outputs": [
        {
          "output_type": "execute_result",
          "data": {
            "text/plain": [
              "defaultdict(int,\n",
              "            {'е': 46,\n",
              "             'а': 55,\n",
              "             'у': 36,\n",
              "             'о': 92,\n",
              "             'и': 59,\n",
              "             'й': 6,\n",
              "             'я': 11,\n",
              "             'ё': 7,\n",
              "             'ю': 3,\n",
              "             'ы': 4})"
            ]
          },
          "metadata": {},
          "execution_count": 11
        }
      ],
      "source": [
        "df = defaultdict(int)\n",
        "vow = \"оаяеиуюыёй\"\n",
        "for word in text.split():\n",
        "    first = True\n",
        "    for i, char in enumerate(word):\n",
        "        if char in vow:\n",
        "            df[char] += 4 if first else 1\n",
        "            first = False\n",
        "        elif char == \"`\":\n",
        "            df[word[i - 1]] += 1\n",
        "df"
      ]
    },
    {
      "cell_type": "markdown",
      "source": [
        "Общее количество звуков в тексте (суммируем):"
      ],
      "metadata": {
        "id": "3yskkzljPt4-"
      },
      "id": "3yskkzljPt4-"
    },
    {
      "cell_type": "code",
      "source": [
        "R = 0\n",
        "for i in df:\n",
        "  R += df[i]\n",
        "R"
      ],
      "metadata": {
        "colab": {
          "base_uri": "https://localhost:8080/"
        },
        "id": "7f-jC_8pQhxr",
        "outputId": "3696c97b-cc75-4e47-be34-7de31b9a354c"
      },
      "id": "7f-jC_8pQhxr",
      "execution_count": null,
      "outputs": [
        {
          "output_type": "execute_result",
          "data": {
            "text/plain": [
              "319"
            ]
          },
          "metadata": {},
          "execution_count": 12
        }
      ]
    },
    {
      "cell_type": "markdown",
      "source": [
        "Формула нормативного разброса значения нормативной частоты звука в русской речи согласно центральной предельной теореме\n",
        "\n",
        "$\\large\\sigma_i = \\sqrt{\\frac{p_{in}*(1-p_{in})}{R}}$\n",
        "\n",
        "где:\n",
        "* $\\sigma_i$ – стандартное отклонение (дисперсия),\n",
        "* $p_{in}$ – норма частотности соответствующей буквы (звука), нормативные значения рассчитаны по словарю русского языка и используются всеми как константы,\n",
        "* $R$ – общее число букв (звуков) в тексте.\n"
      ],
      "metadata": {
        "id": "CjbOta9LIZbC"
      },
      "id": "CjbOta9LIZbC"
    },
    {
      "cell_type": "markdown",
      "source": [
        "Норма частотности букв/звуков для русского языка:\n",
        "\n",
        "* **А+Я** (0,116),\n",
        "* **О+0.5Ё** (0.126),\n",
        "* **Е+0.5Ё** (0.102),\n",
        "* **И+0.5Й** (0.077),\n",
        "* **У+Ю** (0,040),\n",
        "* **Ы** (0.024)\n"
      ],
      "metadata": {
        "id": "RxYgQsvaKGeP"
      },
      "id": "RxYgQsvaKGeP"
    },
    {
      "cell_type": "markdown",
      "source": [
        "Просуммируем буквы под норму частотности:"
      ],
      "metadata": {
        "id": "3uaWCsqXOMbc"
      },
      "id": "3uaWCsqXOMbc"
    },
    {
      "cell_type": "code",
      "source": [
        "df[\"а+я\"] = df[\"а\"] + df[\"я\"]\n",
        "df[\"о+ё\"] = df[\"о\"] + df[\"ё\"] / 2\n",
        "df[\"е+ё\"] = df[\"е\"] + df[\"ё\"] / 2\n",
        "df[\"и+й\"] = df[\"и\"] + df[\"й\"] / 2\n",
        "df[\"у+ю\"] = df[\"у\"] + df[\"ю\"]\n",
        "del df[\"а\"], df[\"я\"], df[\"о\"], df[\"е\"], df[\"ё\"], df[\"и\"], df[\"й\"], df[\"у\"], df[\"ю\"]\n",
        "df"
      ],
      "metadata": {
        "colab": {
          "base_uri": "https://localhost:8080/"
        },
        "id": "AOPdXLLYI7gD",
        "outputId": "83c82c3c-6377-46ea-ff5f-c26c189d3d37"
      },
      "id": "AOPdXLLYI7gD",
      "execution_count": null,
      "outputs": [
        {
          "output_type": "execute_result",
          "data": {
            "text/plain": [
              "defaultdict(int,\n",
              "            {'ы': 4,\n",
              "             'а+я': 66,\n",
              "             'о+ё': 95.5,\n",
              "             'е+ё': 49.5,\n",
              "             'и+й': 62.0,\n",
              "             'у+ю': 39})"
            ]
          },
          "metadata": {},
          "execution_count": 13
        }
      ]
    },
    {
      "cell_type": "markdown",
      "source": [
        "Формула расчета силы цвета:\n",
        "\n",
        "$\\large a_i=\\frac{p_{i}-p_{in}}{\\sigma_i}$\n",
        "\n",
        "где\n",
        "* $\\sigma_i$ – стандартное отклонение,\n",
        "* $p_{i}$– частота буквы в тексте,\n",
        "* $p_{in}$ – норма частотности соответствующей буквы.\n",
        "\n"
      ],
      "metadata": {
        "id": "sj8GgtXJI_Bk"
      },
      "id": "sj8GgtXJI_Bk"
    },
    {
      "cell_type": "markdown",
      "source": [
        "Вычислим силу цвета:"
      ],
      "metadata": {
        "id": "c7RkU4ntUCSh"
      },
      "id": "c7RkU4ntUCSh"
    },
    {
      "cell_type": "code",
      "execution_count": null,
      "id": "643e22a2-b4c3-4071-a2c7-f194088d9dc7",
      "metadata": {
        "id": "643e22a2-b4c3-4071-a2c7-f194088d9dc7",
        "outputId": "bfbcee3b-3da8-4b80-f3b2-da2415dcbbec",
        "colab": {
          "base_uri": "https://localhost:8080/",
          "height": 237
        }
      },
      "outputs": [
        {
          "output_type": "execute_result",
          "data": {
            "text/plain": [
              "        R        Pi     Pn       sig         a\n",
              "ы     4.0  0.012539  0.024  0.008569 -1.337459\n",
              "а+я  66.0  0.206897  0.116  0.017929  5.069763\n",
              "о+ё  95.5  0.299373  0.126  0.018580  9.331166\n",
              "е+ё  49.5  0.155172  0.102  0.016945  3.137932\n",
              "и+й  62.0  0.194357  0.077  0.014926  7.862479\n",
              "у+ю  39.0  0.122257  0.040  0.010972  7.497265"
            ],
            "text/html": [
              "\n",
              "  <div id=\"df-11539401-0b1a-4fd5-a13a-cba19affb7ab\" class=\"colab-df-container\">\n",
              "    <div>\n",
              "<style scoped>\n",
              "    .dataframe tbody tr th:only-of-type {\n",
              "        vertical-align: middle;\n",
              "    }\n",
              "\n",
              "    .dataframe tbody tr th {\n",
              "        vertical-align: top;\n",
              "    }\n",
              "\n",
              "    .dataframe thead th {\n",
              "        text-align: right;\n",
              "    }\n",
              "</style>\n",
              "<table border=\"1\" class=\"dataframe\">\n",
              "  <thead>\n",
              "    <tr style=\"text-align: right;\">\n",
              "      <th></th>\n",
              "      <th>R</th>\n",
              "      <th>Pi</th>\n",
              "      <th>Pn</th>\n",
              "      <th>sig</th>\n",
              "      <th>a</th>\n",
              "    </tr>\n",
              "  </thead>\n",
              "  <tbody>\n",
              "    <tr>\n",
              "      <th>ы</th>\n",
              "      <td>4.0</td>\n",
              "      <td>0.012539</td>\n",
              "      <td>0.024</td>\n",
              "      <td>0.008569</td>\n",
              "      <td>-1.337459</td>\n",
              "    </tr>\n",
              "    <tr>\n",
              "      <th>а+я</th>\n",
              "      <td>66.0</td>\n",
              "      <td>0.206897</td>\n",
              "      <td>0.116</td>\n",
              "      <td>0.017929</td>\n",
              "      <td>5.069763</td>\n",
              "    </tr>\n",
              "    <tr>\n",
              "      <th>о+ё</th>\n",
              "      <td>95.5</td>\n",
              "      <td>0.299373</td>\n",
              "      <td>0.126</td>\n",
              "      <td>0.018580</td>\n",
              "      <td>9.331166</td>\n",
              "    </tr>\n",
              "    <tr>\n",
              "      <th>е+ё</th>\n",
              "      <td>49.5</td>\n",
              "      <td>0.155172</td>\n",
              "      <td>0.102</td>\n",
              "      <td>0.016945</td>\n",
              "      <td>3.137932</td>\n",
              "    </tr>\n",
              "    <tr>\n",
              "      <th>и+й</th>\n",
              "      <td>62.0</td>\n",
              "      <td>0.194357</td>\n",
              "      <td>0.077</td>\n",
              "      <td>0.014926</td>\n",
              "      <td>7.862479</td>\n",
              "    </tr>\n",
              "    <tr>\n",
              "      <th>у+ю</th>\n",
              "      <td>39.0</td>\n",
              "      <td>0.122257</td>\n",
              "      <td>0.040</td>\n",
              "      <td>0.010972</td>\n",
              "      <td>7.497265</td>\n",
              "    </tr>\n",
              "  </tbody>\n",
              "</table>\n",
              "</div>\n",
              "    <div class=\"colab-df-buttons\">\n",
              "\n",
              "  <div class=\"colab-df-container\">\n",
              "    <button class=\"colab-df-convert\" onclick=\"convertToInteractive('df-11539401-0b1a-4fd5-a13a-cba19affb7ab')\"\n",
              "            title=\"Convert this dataframe to an interactive table.\"\n",
              "            style=\"display:none;\">\n",
              "\n",
              "  <svg xmlns=\"http://www.w3.org/2000/svg\" height=\"24px\" viewBox=\"0 -960 960 960\">\n",
              "    <path d=\"M120-120v-720h720v720H120Zm60-500h600v-160H180v160Zm220 220h160v-160H400v160Zm0 220h160v-160H400v160ZM180-400h160v-160H180v160Zm440 0h160v-160H620v160ZM180-180h160v-160H180v160Zm440 0h160v-160H620v160Z\"/>\n",
              "  </svg>\n",
              "    </button>\n",
              "\n",
              "  <style>\n",
              "    .colab-df-container {\n",
              "      display:flex;\n",
              "      gap: 12px;\n",
              "    }\n",
              "\n",
              "    .colab-df-convert {\n",
              "      background-color: #E8F0FE;\n",
              "      border: none;\n",
              "      border-radius: 50%;\n",
              "      cursor: pointer;\n",
              "      display: none;\n",
              "      fill: #1967D2;\n",
              "      height: 32px;\n",
              "      padding: 0 0 0 0;\n",
              "      width: 32px;\n",
              "    }\n",
              "\n",
              "    .colab-df-convert:hover {\n",
              "      background-color: #E2EBFA;\n",
              "      box-shadow: 0px 1px 2px rgba(60, 64, 67, 0.3), 0px 1px 3px 1px rgba(60, 64, 67, 0.15);\n",
              "      fill: #174EA6;\n",
              "    }\n",
              "\n",
              "    .colab-df-buttons div {\n",
              "      margin-bottom: 4px;\n",
              "    }\n",
              "\n",
              "    [theme=dark] .colab-df-convert {\n",
              "      background-color: #3B4455;\n",
              "      fill: #D2E3FC;\n",
              "    }\n",
              "\n",
              "    [theme=dark] .colab-df-convert:hover {\n",
              "      background-color: #434B5C;\n",
              "      box-shadow: 0px 1px 3px 1px rgba(0, 0, 0, 0.15);\n",
              "      filter: drop-shadow(0px 1px 2px rgba(0, 0, 0, 0.3));\n",
              "      fill: #FFFFFF;\n",
              "    }\n",
              "  </style>\n",
              "\n",
              "    <script>\n",
              "      const buttonEl =\n",
              "        document.querySelector('#df-11539401-0b1a-4fd5-a13a-cba19affb7ab button.colab-df-convert');\n",
              "      buttonEl.style.display =\n",
              "        google.colab.kernel.accessAllowed ? 'block' : 'none';\n",
              "\n",
              "      async function convertToInteractive(key) {\n",
              "        const element = document.querySelector('#df-11539401-0b1a-4fd5-a13a-cba19affb7ab');\n",
              "        const dataTable =\n",
              "          await google.colab.kernel.invokeFunction('convertToInteractive',\n",
              "                                                    [key], {});\n",
              "        if (!dataTable) return;\n",
              "\n",
              "        const docLinkHtml = 'Like what you see? Visit the ' +\n",
              "          '<a target=\"_blank\" href=https://colab.research.google.com/notebooks/data_table.ipynb>data table notebook</a>'\n",
              "          + ' to learn more about interactive tables.';\n",
              "        element.innerHTML = '';\n",
              "        dataTable['output_type'] = 'display_data';\n",
              "        await google.colab.output.renderOutput(dataTable, element);\n",
              "        const docLink = document.createElement('div');\n",
              "        docLink.innerHTML = docLinkHtml;\n",
              "        element.appendChild(docLink);\n",
              "      }\n",
              "    </script>\n",
              "  </div>\n",
              "\n",
              "\n",
              "<div id=\"df-8784846d-09f2-4e1b-91f4-31b5f4b574dc\">\n",
              "  <button class=\"colab-df-quickchart\" onclick=\"quickchart('df-8784846d-09f2-4e1b-91f4-31b5f4b574dc')\"\n",
              "            title=\"Suggest charts\"\n",
              "            style=\"display:none;\">\n",
              "\n",
              "<svg xmlns=\"http://www.w3.org/2000/svg\" height=\"24px\"viewBox=\"0 0 24 24\"\n",
              "     width=\"24px\">\n",
              "    <g>\n",
              "        <path d=\"M19 3H5c-1.1 0-2 .9-2 2v14c0 1.1.9 2 2 2h14c1.1 0 2-.9 2-2V5c0-1.1-.9-2-2-2zM9 17H7v-7h2v7zm4 0h-2V7h2v10zm4 0h-2v-4h2v4z\"/>\n",
              "    </g>\n",
              "</svg>\n",
              "  </button>\n",
              "\n",
              "<style>\n",
              "  .colab-df-quickchart {\n",
              "      --bg-color: #E8F0FE;\n",
              "      --fill-color: #1967D2;\n",
              "      --hover-bg-color: #E2EBFA;\n",
              "      --hover-fill-color: #174EA6;\n",
              "      --disabled-fill-color: #AAA;\n",
              "      --disabled-bg-color: #DDD;\n",
              "  }\n",
              "\n",
              "  [theme=dark] .colab-df-quickchart {\n",
              "      --bg-color: #3B4455;\n",
              "      --fill-color: #D2E3FC;\n",
              "      --hover-bg-color: #434B5C;\n",
              "      --hover-fill-color: #FFFFFF;\n",
              "      --disabled-bg-color: #3B4455;\n",
              "      --disabled-fill-color: #666;\n",
              "  }\n",
              "\n",
              "  .colab-df-quickchart {\n",
              "    background-color: var(--bg-color);\n",
              "    border: none;\n",
              "    border-radius: 50%;\n",
              "    cursor: pointer;\n",
              "    display: none;\n",
              "    fill: var(--fill-color);\n",
              "    height: 32px;\n",
              "    padding: 0;\n",
              "    width: 32px;\n",
              "  }\n",
              "\n",
              "  .colab-df-quickchart:hover {\n",
              "    background-color: var(--hover-bg-color);\n",
              "    box-shadow: 0 1px 2px rgba(60, 64, 67, 0.3), 0 1px 3px 1px rgba(60, 64, 67, 0.15);\n",
              "    fill: var(--button-hover-fill-color);\n",
              "  }\n",
              "\n",
              "  .colab-df-quickchart-complete:disabled,\n",
              "  .colab-df-quickchart-complete:disabled:hover {\n",
              "    background-color: var(--disabled-bg-color);\n",
              "    fill: var(--disabled-fill-color);\n",
              "    box-shadow: none;\n",
              "  }\n",
              "\n",
              "  .colab-df-spinner {\n",
              "    border: 2px solid var(--fill-color);\n",
              "    border-color: transparent;\n",
              "    border-bottom-color: var(--fill-color);\n",
              "    animation:\n",
              "      spin 1s steps(1) infinite;\n",
              "  }\n",
              "\n",
              "  @keyframes spin {\n",
              "    0% {\n",
              "      border-color: transparent;\n",
              "      border-bottom-color: var(--fill-color);\n",
              "      border-left-color: var(--fill-color);\n",
              "    }\n",
              "    20% {\n",
              "      border-color: transparent;\n",
              "      border-left-color: var(--fill-color);\n",
              "      border-top-color: var(--fill-color);\n",
              "    }\n",
              "    30% {\n",
              "      border-color: transparent;\n",
              "      border-left-color: var(--fill-color);\n",
              "      border-top-color: var(--fill-color);\n",
              "      border-right-color: var(--fill-color);\n",
              "    }\n",
              "    40% {\n",
              "      border-color: transparent;\n",
              "      border-right-color: var(--fill-color);\n",
              "      border-top-color: var(--fill-color);\n",
              "    }\n",
              "    60% {\n",
              "      border-color: transparent;\n",
              "      border-right-color: var(--fill-color);\n",
              "    }\n",
              "    80% {\n",
              "      border-color: transparent;\n",
              "      border-right-color: var(--fill-color);\n",
              "      border-bottom-color: var(--fill-color);\n",
              "    }\n",
              "    90% {\n",
              "      border-color: transparent;\n",
              "      border-bottom-color: var(--fill-color);\n",
              "    }\n",
              "  }\n",
              "</style>\n",
              "\n",
              "  <script>\n",
              "    async function quickchart(key) {\n",
              "      const quickchartButtonEl =\n",
              "        document.querySelector('#' + key + ' button');\n",
              "      quickchartButtonEl.disabled = true;  // To prevent multiple clicks.\n",
              "      quickchartButtonEl.classList.add('colab-df-spinner');\n",
              "      try {\n",
              "        const charts = await google.colab.kernel.invokeFunction(\n",
              "            'suggestCharts', [key], {});\n",
              "      } catch (error) {\n",
              "        console.error('Error during call to suggestCharts:', error);\n",
              "      }\n",
              "      quickchartButtonEl.classList.remove('colab-df-spinner');\n",
              "      quickchartButtonEl.classList.add('colab-df-quickchart-complete');\n",
              "    }\n",
              "    (() => {\n",
              "      let quickchartButtonEl =\n",
              "        document.querySelector('#df-8784846d-09f2-4e1b-91f4-31b5f4b574dc button');\n",
              "      quickchartButtonEl.style.display =\n",
              "        google.colab.kernel.accessAllowed ? 'block' : 'none';\n",
              "    })();\n",
              "  </script>\n",
              "</div>\n",
              "    </div>\n",
              "  </div>\n"
            ]
          },
          "metadata": {},
          "execution_count": 14
        }
      ],
      "source": [
        "df2 = pd.DataFrame({\"R\":df, \"Pn\":{'ы': 0.024, 'а+я': 0.116, 'о+ё': 0.126, 'е+ё': 0.102, 'и+й': 0.077, 'у+ю': 0.040}})\n",
        "df2[\"Pi\"] = df2[\"R\"]/R\n",
        "df2 = df2[[\"R\", \"Pi\", \"Pn\"]]\n",
        "df2[\"sig\"] = np.sqrt(df2[\"Pn\"]*(1-df2[\"Pn\"])/R)\n",
        "df2[\"a\"] = (df2[\"Pi\"] - df2[\"Pn\"]) / df2[\"sig\"]\n",
        "df2"
      ]
    },
    {
      "cell_type": "markdown",
      "source": [
        "Итог:\n",
        "\n",
        "**М. Лермонтов «Белеет парус одинокий» имеет окраску:**  \n",
        "ярко-красный : бело-жёлтый : жёлто-зелёный : синий  : лиловый  \n",
        "5.07 : 9.33 : 3.14 : 7.86 : 7.49\n",
        "\n",
        "чёрно-коричневый цвет Лермонтов старался убирать\n"
      ],
      "metadata": {
        "id": "lEbsxWBYUKwM"
      },
      "id": "lEbsxWBYUKwM"
    }
  ],
  "metadata": {
    "kernelspec": {
      "display_name": "Python 3 (ipykernel)",
      "language": "python",
      "name": "python3"
    },
    "language_info": {
      "codemirror_mode": {
        "name": "ipython",
        "version": 3
      },
      "file_extension": ".py",
      "mimetype": "text/x-python",
      "name": "python",
      "nbconvert_exporter": "python",
      "pygments_lexer": "ipython3",
      "version": "3.10.4"
    },
    "colab": {
      "provenance": []
    }
  },
  "nbformat": 4,
  "nbformat_minor": 5
}