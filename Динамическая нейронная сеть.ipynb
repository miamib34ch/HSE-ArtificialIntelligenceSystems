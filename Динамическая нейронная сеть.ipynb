{
  "cells": [
    {
      "cell_type": "code",
      "source": [
        "import numpy as np\n",
        "import pandas as pd\n",
        "from sklearn.model_selection import train_test_split\n",
        "from sklearn.preprocessing import LabelEncoder, MinMaxScaler\n",
        "from tqdm.autonotebook import tqdm\n",
        "from sklearn.metrics import accuracy_score\n",
        "import matplotlib.pyplot as plt"
      ],
      "metadata": {
        "id": "qCIkx8RWGrc5",
        "colab": {
          "base_uri": "https://localhost:8080/"
        },
        "outputId": "ed9cd278-17f1-4d01-c9f2-8ae97c2f8891"
      },
      "id": "qCIkx8RWGrc5",
      "execution_count": 1,
      "outputs": [
        {
          "output_type": "stream",
          "name": "stderr",
          "text": [
            "<ipython-input-1-721442f17053>:5: TqdmExperimentalWarning: Using `tqdm.autonotebook.tqdm` in notebook mode. Use `tqdm.tqdm` instead to force console mode (e.g. in jupyter console)\n",
            "  from tqdm.autonotebook import tqdm\n"
          ]
        }
      ]
    },
    {
      "cell_type": "markdown",
      "source": [
        "# Нейронная сеть"
      ],
      "metadata": {
        "id": "Ysaxl-DrP_bN"
      },
      "id": "Ysaxl-DrP_bN"
    },
    {
      "cell_type": "markdown",
      "source": [
        "\n",
        "Layer - абстрактный класс, представляющий слой нейронной сети.\n"
      ],
      "metadata": {
        "id": "6ONZelndHQJz"
      },
      "id": "6ONZelndHQJz"
    },
    {
      "cell_type": "code",
      "source": [
        "class Layer:\n",
        "    def __init__(self):\n",
        "        pass\n",
        "\n",
        "    def __len__(self):\n",
        "        pass\n",
        "\n",
        "    def __str__(self):\n",
        "        pass\n",
        "\n",
        "    def forward(self):\n",
        "        pass\n",
        "\n",
        "    def backward(self):\n",
        "        pass\n",
        "\n",
        "    def optimize(self):\n",
        "        pass"
      ],
      "metadata": {
        "id": "GsrWcKPOG9V5"
      },
      "id": "GsrWcKPOG9V5",
      "execution_count": 2,
      "outputs": []
    },
    {
      "cell_type": "markdown",
      "source": [
        "Linear - подкласс, представляющий линейный слой сети. Персептрон. Изначальные веса и смещение рандомные.\n"
      ],
      "metadata": {
        "id": "dNlcluHXLcC8"
      },
      "id": "dNlcluHXLcC8"
    },
    {
      "cell_type": "code",
      "source": [
        "class Linear(Layer):\n",
        "    def __init__(self, input_dim, output_dim):\n",
        "        self.weights = np.random.rand(output_dim, input_dim)\n",
        "        self.biases = np.random.rand(output_dim, 1)\n",
        "\n",
        "        self.type = \"Linear\"\n",
        "\n",
        "    def __str__(self):\n",
        "        return f\"{self.type} Layer\"\n",
        "\n",
        "    # прямой проход для подсчёта функции потерь\n",
        "    def forward(self, input_val):\n",
        "        self._prev_acti = input_val\n",
        "        return np.matmul(self.weights, input_val) + self.biases\n",
        "\n",
        "    # обратный проход для посчёта градиента\n",
        "    def backward(self, dA):\n",
        "        dW = dA @ self._prev_acti.T\n",
        "        dB = dA.mean()\n",
        "\n",
        "        delta = self.weights.T @ dA\n",
        "\n",
        "        return delta, dW, dB\n",
        "\n",
        "    # оптимизация коэффициентов нейронов через использование антиградиента\n",
        "    # нужно для уменьшения функции потерь\n",
        "    def optimize(self, dW, dB, rate):\n",
        "        self.weights -= rate * dW\n",
        "        self.biases -= rate * dB"
      ],
      "metadata": {
        "id": "P3s-_TezHABO"
      },
      "id": "P3s-_TezHABO",
      "execution_count": 3,
      "outputs": []
    },
    {
      "cell_type": "markdown",
      "source": [
        "ReLU - подкласс, представляющий нелинейный слой с функцией активации ReLU (Rectified Linear Unit)."
      ],
      "metadata": {
        "id": "KIferro4Ld2g"
      },
      "id": "KIferro4Ld2g"
    },
    {
      "cell_type": "code",
      "source": [
        "class ReLU(Layer):\n",
        "    def __init__(self, output_dim):\n",
        "        self.units = output_dim\n",
        "        self.type = \"ReLU\"\n",
        "\n",
        "    def __str__(self):\n",
        "        return f\"{self.type} Layer\"\n",
        "\n",
        "    def forward(self, input_val):\n",
        "        self._prev_acti = np.maximum(0, input_val)\n",
        "        return self._prev_acti\n",
        "\n",
        "    def backward(self, dJ):\n",
        "        return dJ * np.heaviside(self._prev_acti, 0)"
      ],
      "metadata": {
        "id": "n_kG2n53HFG_"
      },
      "id": "n_kG2n53HFG_",
      "execution_count": 4,
      "outputs": []
    },
    {
      "cell_type": "markdown",
      "source": [
        "Sigmoid - подкласс, представляющий нелинейный слой с функцией активации сигмоида."
      ],
      "metadata": {
        "id": "ywnltb3jLgHG"
      },
      "id": "ywnltb3jLgHG"
    },
    {
      "cell_type": "code",
      "source": [
        "class Sigmoid(Layer):\n",
        "    def __init__(self, output_dim):\n",
        "        self.units = output_dim\n",
        "        self.type = \"Sigmoid\"\n",
        "\n",
        "    def __str__(self):\n",
        "        return f\"{self.type} Layer\"\n",
        "\n",
        "    def forward(self, input_val):\n",
        "        self._prev_acti = 1 / (1 + np.exp(-input_val))\n",
        "        return self._prev_acti\n",
        "\n",
        "    def backward(self, dJ):\n",
        "        sig = self._prev_acti\n",
        "        return dJ * sig * (1 - sig)"
      ],
      "metadata": {
        "id": "4C7mEGeuHG4E"
      },
      "id": "4C7mEGeuHG4E",
      "execution_count": 5,
      "outputs": []
    },
    {
      "cell_type": "markdown",
      "source": [
        " Класс, представляющий функцию потерь бинарной кросс-энтропии.\n",
        "\n",
        " Функция кросс-энтропии стремится к минимуму, когда предсказанные вероятности близки к истинным меткам, и увеличивается с увеличением расхождения между ними."
      ],
      "metadata": {
        "id": "oPUTRc8FMF-e"
      },
      "id": "oPUTRc8FMF-e"
    },
    {
      "cell_type": "code",
      "source": [
        "class BinaryCrossEntropy:\n",
        "    def __init__(self, predicted, real):\n",
        "        self.real = real\n",
        "        self.predicted = predicted\n",
        "        self.type = \"Binary Cross-Entropy\"\n",
        "\n",
        "    def forward(self):\n",
        "        n = self.real.shape[0]\n",
        "        loss = np.nansum(-self.real @ np.log(self.predicted) - (1 - self.real) @ np.log(1 - self.predicted)) / n\n",
        "        return np.squeeze(loss)\n",
        "\n",
        "    def backward(self):\n",
        "        n = self.real.shape[0]\n",
        "        return (-(self.real / self.predicted.T) + ((1 - self.real) / (1 - self.predicted.T))) / n"
      ],
      "metadata": {
        "id": "eM5zp1V4HIX9"
      },
      "id": "eM5zp1V4HIX9",
      "execution_count": 6,
      "outputs": []
    },
    {
      "cell_type": "markdown",
      "source": [
        "Класс, представляющий модель нейронной сети.   \n",
        "Содержит список слоев (layers) и список значений функции потерь (loss)."
      ],
      "metadata": {
        "id": "dHytE2OtM2IE"
      },
      "id": "dHytE2OtM2IE"
    },
    {
      "cell_type": "code",
      "source": [
        "class Model:\n",
        "    def __init__(self):\n",
        "        self.layers = []\n",
        "        self.loss = []\n",
        "\n",
        "    # добавление нового слоя к модели\n",
        "    def add(self, layer):\n",
        "        self.layers.append(layer)\n",
        "\n",
        "    # функция предсказывания результатов\n",
        "    def predict(self, X):\n",
        "        for i, _ in enumerate(self.layers):\n",
        "            forward = self.layers[i].forward(X)\n",
        "            X = forward\n",
        "\n",
        "        return forward\n",
        "\n",
        "    # выполнение одной эпохи обучения (прогон по всем данным)\n",
        "    def _run_epoch(self, X, Y, learning_rate):\n",
        "\n",
        "        # прямой проход, получаем предсказания\n",
        "        for i, _ in enumerate(self.layers):\n",
        "            forward = self.layers[i].forward(input_val=X)\n",
        "            X = forward\n",
        "\n",
        "        # подсчёт функции потерь и градиента\n",
        "        bce = BinaryCrossEntropy(forward.T, Y)\n",
        "        error = bce.forward()\n",
        "        gradient = bce.backward()\n",
        "\n",
        "        # обратный проход\n",
        "        for i, _ in reversed(list(enumerate(self.layers))):\n",
        "            if self.layers[i].type != \"Linear\":\n",
        "                gradient = self.layers[i].backward(gradient)\n",
        "            else:\n",
        "                gradient, dW, dB = self.layers[i].backward(gradient)\n",
        "                # print(dW, dB) # вывод весов и порога/смещения в каждую эпоху\n",
        "                self.layers[i].optimize(dW, dB, learning_rate)\n",
        "\n",
        "        return error\n",
        "\n",
        "    # обучение модели, проводим для датасета определлённое количество эпох\n",
        "    def train(self, X_train, Y_train, learning_rate, epochs, verbose=False):\n",
        "        for epoch in range(epochs):\n",
        "            loss = self._run_epoch(X_train, Y_train, learning_rate)\n",
        "            self.loss.append(loss)\n",
        "            if verbose and epoch % 50 == 0:\n",
        "                print(f\"Epoch: {epoch}. Loss: {loss}\")\n",
        "        return self.loss"
      ],
      "metadata": {
        "id": "Xb7O3OpvHLHr"
      },
      "id": "Xb7O3OpvHLHr",
      "execution_count": 8,
      "outputs": []
    },
    {
      "cell_type": "markdown",
      "source": [
        "# Создание и обучение модели нейронной сети"
      ],
      "metadata": {
        "id": "BrxZoakdfQ5y"
      },
      "id": "BrxZoakdfQ5y"
    },
    {
      "cell_type": "markdown",
      "source": [
        "## Модель и данные из семинара"
      ],
      "metadata": {
        "id": "asKffXW2fY2J"
      },
      "id": "asKffXW2fY2J"
    },
    {
      "cell_type": "markdown",
      "source": [
        "### Данные для обучения"
      ],
      "metadata": {
        "id": "aVahC6gsf5R9"
      },
      "id": "aVahC6gsf5R9"
    },
    {
      "cell_type": "code",
      "source": [
        "# Создаем DataFrame\n",
        "data = {\n",
        "    'X1 (температура)': [1, 9.4, 2.5, 8.0, 0.5, 7.9, 7.0, 2.8, 1.2, 7.8],\n",
        "    'X2 (вибрация)': [1, 6.4, 2.1, 7.7, 2.2, 8.4, 7.0, 0.8, 3.0, 6.1],\n",
        "    'Y (опасность)': [1, -1, 1, -1, 1, -1, -1, 1, 1, -1]\n",
        "}\n",
        "\n",
        "df = pd.DataFrame(data)\n",
        "\n",
        "# Выводим DataFrame\n",
        "print(df)"
      ],
      "metadata": {
        "colab": {
          "base_uri": "https://localhost:8080/"
        },
        "id": "xMh7M4YodAjw",
        "outputId": "1a962b4f-2623-473c-c08b-8253e9a1f7e1"
      },
      "id": "xMh7M4YodAjw",
      "execution_count": 19,
      "outputs": [
        {
          "output_type": "stream",
          "name": "stdout",
          "text": [
            "   X1 (температура)  X2 (вибрация)  Y (опасность)\n",
            "0               1.0            1.0              1\n",
            "1               9.4            6.4             -1\n",
            "2               2.5            2.1              1\n",
            "3               8.0            7.7             -1\n",
            "4               0.5            2.2              1\n",
            "5               7.9            8.4             -1\n",
            "6               7.0            7.0             -1\n",
            "7               2.8            0.8              1\n",
            "8               1.2            3.0              1\n",
            "9               7.8            6.1             -1\n"
          ]
        }
      ]
    },
    {
      "cell_type": "markdown",
      "source": [
        "Преобразуем данные для работы."
      ],
      "metadata": {
        "id": "svRgfw7Wf73U"
      },
      "id": "svRgfw7Wf73U"
    },
    {
      "cell_type": "code",
      "source": [
        "for col in df.columns[0:]:\n",
        "    scaler = MinMaxScaler()\n",
        "    df[col] = scaler.fit_transform(df[col].values.reshape(-1, 1))\n",
        "\n",
        "df = df.astype(float)\n",
        "\n",
        "# Выводим обновленный DataFrame\n",
        "print(df)"
      ],
      "metadata": {
        "colab": {
          "base_uri": "https://localhost:8080/"
        },
        "id": "g3qekxQ3dUSB",
        "outputId": "2dbaabc2-07b8-4c21-a784-b756b1f4e6a4"
      },
      "id": "g3qekxQ3dUSB",
      "execution_count": 20,
      "outputs": [
        {
          "output_type": "stream",
          "name": "stdout",
          "text": [
            "   X1 (температура)  X2 (вибрация)  Y (опасность)\n",
            "0          0.056180       0.026316            1.0\n",
            "1          1.000000       0.736842            0.0\n",
            "2          0.224719       0.171053            1.0\n",
            "3          0.842697       0.907895            0.0\n",
            "4          0.000000       0.184211            1.0\n",
            "5          0.831461       1.000000            0.0\n",
            "6          0.730337       0.815789            0.0\n",
            "7          0.258427       0.000000            1.0\n",
            "8          0.078652       0.289474            1.0\n",
            "9          0.820225       0.697368            0.0\n"
          ]
        }
      ]
    },
    {
      "cell_type": "markdown",
      "source": [
        "Делим данные, будем определять по температуре и вибрации опасно или безопасно. Также делим на тестовые данные и тренировочные."
      ],
      "metadata": {
        "id": "eIs1YSk3gAWD"
      },
      "id": "eIs1YSk3gAWD"
    },
    {
      "cell_type": "code",
      "source": [
        "X = df.drop(\"Y (опасность)\", axis=1)\n",
        "y = df[\"Y (опасность)\"].values.reshape(-1)\n",
        "\n",
        "X_train, X_test, y_train, y_test = train_test_split(X, y, test_size=0.2, random_state=42)\n",
        "\n",
        "# преобразуем массив в нужную форму\n",
        "y_train = y_train.reshape(-1, 1)\n",
        "y_test = y_test.reshape(-1, 1)"
      ],
      "metadata": {
        "id": "Ib9pfcI1dQtn"
      },
      "id": "Ib9pfcI1dQtn",
      "execution_count": 21,
      "outputs": []
    },
    {
      "cell_type": "markdown",
      "source": [
        "### Работа нейронной сети"
      ],
      "metadata": {
        "id": "YXTasAP2gW7W"
      },
      "id": "YXTasAP2gW7W"
    },
    {
      "cell_type": "code",
      "source": [
        "# Создаём модель\n",
        "model = Model()\n",
        "\n",
        "# Добавляем слои.\n",
        "model.add(Linear(X.shape[1], 1)) # рецепторов столько же сколько признаков (2), 1 выход\n",
        "model.add(Sigmoid(1))\n",
        "\n",
        "# Обучаем модель\n",
        "error = model.train(X_train = X.T.to_numpy(),\n",
        "            Y_train = y,\n",
        "            learning_rate = 0.05, # величина шага обновления коэффициентов (на сколько сильно обновляются веса), влияет на скорость обучения\n",
        "            epochs=2000,\n",
        "            verbose=True)"
      ],
      "metadata": {
        "colab": {
          "base_uri": "https://localhost:8080/"
        },
        "id": "gaiwHovOdsLL",
        "outputId": "aaffa45f-d580-4220-9eb3-a75ebbfbdcb2"
      },
      "id": "gaiwHovOdsLL",
      "execution_count": 22,
      "outputs": [
        {
          "output_type": "stream",
          "name": "stdout",
          "text": [
            "Epoch: 0. Loss: 0.9750827359391285\n",
            "Epoch: 50. Loss: 0.6462483959424518\n",
            "Epoch: 100. Loss: 0.5131253353724945\n",
            "Epoch: 150. Loss: 0.45527402419535123\n",
            "Epoch: 200. Loss: 0.42455341281522224\n",
            "Epoch: 250. Loss: 0.40485606556145903\n",
            "Epoch: 300. Loss: 0.3902702484793228\n",
            "Epoch: 350. Loss: 0.3783465422479964\n",
            "Epoch: 400. Loss: 0.3679607751802963\n",
            "Epoch: 450. Loss: 0.3585530415954321\n",
            "Epoch: 500. Loss: 0.3498251517439187\n",
            "Epoch: 550. Loss: 0.341608811623207\n",
            "Epoch: 600. Loss: 0.3338037863918925\n",
            "Epoch: 650. Loss: 0.32634711590500365\n",
            "Epoch: 700. Loss: 0.3191970331596498\n",
            "Epoch: 750. Loss: 0.3123242262266676\n",
            "Epoch: 800. Loss: 0.30570693323317555\n",
            "Epoch: 850. Loss: 0.29932811262834136\n",
            "Epoch: 900. Loss: 0.29317377189400506\n",
            "Epoch: 950. Loss: 0.28723195971530613\n",
            "Epoch: 1000. Loss: 0.28149214646067283\n",
            "Epoch: 1050. Loss: 0.27594483617862975\n",
            "Epoch: 1100. Loss: 0.2705813188539824\n",
            "Epoch: 1150. Loss: 0.2653935088391476\n",
            "Epoch: 1200. Loss: 0.26037383690554844\n",
            "Epoch: 1250. Loss: 0.25551517605509116\n",
            "Epoch: 1300. Loss: 0.2508107888351911\n",
            "Epoch: 1350. Loss: 0.24625428851663012\n",
            "Epoch: 1400. Loss: 0.24183960932871132\n",
            "Epoch: 1450. Loss: 0.23756098270541443\n",
            "Epoch: 1500. Loss: 0.23341291759756427\n",
            "Epoch: 1550. Loss: 0.22939018360071403\n",
            "Epoch: 1600. Loss: 0.2254877960895348\n",
            "Epoch: 1650. Loss: 0.22170100283111877\n",
            "Epoch: 1700. Loss: 0.2180252717302696\n",
            "Epoch: 1750. Loss: 0.2144562794761764\n",
            "Epoch: 1800. Loss: 0.21098990093503062\n",
            "Epoch: 1850. Loss: 0.20762219918180955\n",
            "Epoch: 1900. Loss: 0.20434941609604781\n",
            "Epoch: 1950. Loss: 0.2011679634669652\n"
          ]
        }
      ]
    },
    {
      "cell_type": "markdown",
      "source": [
        "Итоговые веса для каждого признака:"
      ],
      "metadata": {
        "id": "22D1tlJA7JcP"
      },
      "id": "22D1tlJA7JcP"
    },
    {
      "cell_type": "code",
      "source": [
        "model.layers[0].weights"
      ],
      "metadata": {
        "colab": {
          "base_uri": "https://localhost:8080/"
        },
        "id": "kJTPCCgCd9lM",
        "outputId": "b6c72e2f-ef67-4cf3-d174-deee29d664dc"
      },
      "id": "kJTPCCgCd9lM",
      "execution_count": 23,
      "outputs": [
        {
          "output_type": "execute_result",
          "data": {
            "text/plain": [
              "array([[-2.63032614, -2.471869  ]])"
            ]
          },
          "metadata": {},
          "execution_count": 23
        }
      ]
    },
    {
      "cell_type": "markdown",
      "source": [
        "Функция потерь:"
      ],
      "metadata": {
        "id": "TS0gCAla7PQW"
      },
      "id": "TS0gCAla7PQW"
    },
    {
      "cell_type": "code",
      "source": [
        "plt.plot(error)\n",
        "plt.title(\"Loss\")\n",
        "plt.xlabel(\"Epoch\")"
      ],
      "metadata": {
        "colab": {
          "base_uri": "https://localhost:8080/",
          "height": 490
        },
        "id": "9iNbXP4jeAbQ",
        "outputId": "ec7485e1-8b04-4739-dec3-064308596853"
      },
      "id": "9iNbXP4jeAbQ",
      "execution_count": 24,
      "outputs": [
        {
          "output_type": "execute_result",
          "data": {
            "text/plain": [
              "Text(0.5, 0, 'Epoch')"
            ]
          },
          "metadata": {},
          "execution_count": 24
        },
        {
          "output_type": "display_data",
          "data": {
            "text/plain": [
              "<Figure size 640x480 with 1 Axes>"
            ],
            "image/png": "[encoded data removed]"
          },
          "metadata": {}
        }
      ]
    },
    {
      "cell_type": "markdown",
      "source": [
        "Проверим точность на оставшихся/тестовых данных и на всём датасете:"
      ],
      "metadata": {
        "id": "oGxQaxmH7Rvk"
      },
      "id": "oGxQaxmH7Rvk"
    },
    {
      "cell_type": "code",
      "source": [
        "print(\"accuracy\", accuracy_score(model.predict(X_test.T.to_numpy()).reshape(-1) > 0.5, y_test.reshape(-1)))"
      ],
      "metadata": {
        "colab": {
          "base_uri": "https://localhost:8080/"
        },
        "id": "B6TcC3gTeEVf",
        "outputId": "241440dd-7f59-4adf-9817-6685fe62fa23"
      },
      "id": "B6TcC3gTeEVf",
      "execution_count": 25,
      "outputs": [
        {
          "output_type": "stream",
          "name": "stdout",
          "text": [
            "accuracy 1.0\n"
          ]
        }
      ]
    },
    {
      "cell_type": "code",
      "source": [
        "print(\"accuracy\", accuracy_score(model.predict(X.T.to_numpy()).reshape(-1) > 0.5, y.reshape(-1)))"
      ],
      "metadata": {
        "colab": {
          "base_uri": "https://localhost:8080/"
        },
        "id": "Wwsk_YKVeJRL",
        "outputId": "c131673f-8c6e-46b6-fda3-b785f22da300"
      },
      "id": "Wwsk_YKVeJRL",
      "execution_count": 26,
      "outputs": [
        {
          "output_type": "stream",
          "name": "stdout",
          "text": [
            "accuracy 1.0\n"
          ]
        }
      ]
    },
    {
      "cell_type": "markdown",
      "source": [
        "Построим график разделения по классам данных, выразив один из признаков через второй + используя полученные веса и порог:"
      ],
      "metadata": {
        "id": "eoHeW0Mg7vlU"
      },
      "id": "eoHeW0Mg7vlU"
    },
    {
      "cell_type": "code",
      "source": [
        "def plot_decision_boundary(X, y, weights, biases):\n",
        "    # Решающая граница: S = k1*X1 + k2*X2 + biases = 0\n",
        "    x1_min, x1_max = df['X1 (температура)'].min(), df['X1 (температура)'].max()\n",
        "    x2_min, x2_max = df['X2 (вибрация)'].min(), df['X2 (вибрация)'].max()\n",
        "\n",
        "    x1 = np.linspace(x1_min, x1_max, 100)\n",
        "    x2 = (-biases - weights[0][0]*x1) / weights[0][1]\n",
        "\n",
        "    # Рисуем график\n",
        "    plt.figure(figsize=(8, 6))\n",
        "    plt.plot(x1, x2, label='S=0 Decision Boundary', color='red')\n",
        "    plt.scatter(X['X1 (температура)'], X['X2 (вибрация)'], c=y, cmap=plt.cm.Spectral)\n",
        "    plt.title('Линия разделения классов')\n",
        "    plt.xlabel('X1 (температура)')\n",
        "    plt.ylabel('X2 (вибрация)')\n",
        "    plt.legend()\n",
        "    plt.show()\n",
        "\n",
        "# Ваши веса и смещение\n",
        "weights = model.layers[0].weights\n",
        "biases = model.layers[0].biases[0][0]\n",
        "\n",
        "# Выведем график\n",
        "plot_decision_boundary(X, y, weights, biases)\n"
      ],
      "metadata": {
        "colab": {
          "base_uri": "https://localhost:8080/",
          "height": 564
        },
        "id": "h9QkyiTpeUx3",
        "outputId": "da5a5a07-ec0e-4a55-ad15-dc3158d229cd"
      },
      "id": "h9QkyiTpeUx3",
      "execution_count": 29,
      "outputs": [
        {
          "output_type": "display_data",
          "data": {
            "text/plain": [
              "<Figure size 800x600 with 1 Axes>"
            ],
            "image/png": "[encoded data removed]"
          },
          "metadata": {}
        }
      ]
    },
    {
      "cell_type": "markdown",
      "source": [
        "Итоговая формула модели:"
      ],
      "metadata": {
        "id": "f34vKHuh8FJ5"
      },
      "id": "f34vKHuh8FJ5"
    },
    {
      "cell_type": "code",
      "source": [
        "k1 = model.layers[0].weights[0][0]\n",
        "k2 = model.layers[0].weights[0][1]\n",
        "biases = model.layers[0].biases[0][0]\n",
        "\n",
        "print(f\"Y = sigamoid(S = {k1}*x1 {k2}*x2 + {biases} > 0)\")\n"
      ],
      "metadata": {
        "colab": {
          "base_uri": "https://localhost:8080/"
        },
        "id": "kO3Gd_sasKcQ",
        "outputId": "abab7ca8-4c7a-4594-b28b-45bad683ae96"
      },
      "id": "kO3Gd_sasKcQ",
      "execution_count": 30,
      "outputs": [
        {
          "output_type": "stream",
          "name": "stdout",
          "text": [
            "Y = sigamoid(S = -2.6303261413830428*x1 -2.471869003686366*x2 + 1.6514517972235851 > 0)\n"
          ]
        }
      ]
    },
    {
      "cell_type": "markdown",
      "source": [
        "## Титаник"
      ],
      "metadata": {
        "id": "gqW7TSJWfe1_"
      },
      "id": "gqW7TSJWfe1_"
    },
    {
      "cell_type": "markdown",
      "source": [
        "Данные для обучения взяты с https://www.kaggle.com/competitions/titanic/data"
      ],
      "metadata": {
        "id": "n0V9p9y8flVG"
      },
      "id": "n0V9p9y8flVG"
    },
    {
      "cell_type": "markdown",
      "source": [
        "### Данные для обучения"
      ],
      "metadata": {
        "id": "mefALE5EQDwB"
      },
      "id": "mefALE5EQDwB"
    },
    {
      "cell_type": "markdown",
      "source": [
        "1. **Survived:**\n",
        "   - Тип данных: Бинарный (0 или 1).\n",
        "   - Описание: Показывает, выжил ли пассажир (1) или нет (0).\n",
        "\n",
        "2. **Pclass:**\n",
        "   - Тип данных: Категориальный (1, 2 или 3).\n",
        "   - Описание: Обозначает класс билета пассажира (1 - первый класс, 2 - второй класс, 3 - третий класс).\n",
        "\n",
        "3. **Sex:**\n",
        "   - Тип данных: Категориальный (мужской или женский).\n",
        "   - Описание: Указывает на пол пассажира.\n",
        "\n",
        "4. **Age:**\n",
        "   - Тип данных: Вещественный (число с плавающей запятой).\n",
        "   - Описание: Показывает возраст пассажира. Могут быть пропущенные значения.\n",
        "\n",
        "5. **SibSp:**\n",
        "   - Тип данных: Целочисленный (количество братьев/сестер/супругов на борту + пассажир).\n",
        "   - Описание: Показывает количество родственников пассажира (братьев, сестер, супругов) на борту.\n",
        "\n",
        "6. **Parch:**\n",
        "   - Тип данных: Целочисленный (количество родителей/детей на борту + пассажир).\n",
        "   - Описание: Показывает количество родителей или детей пассажира на борту.\n",
        "\n",
        "7. **Fare:**\n",
        "   - Тип данных: Вещественный (число с плавающей запятой).\n",
        "   - Описание: Обозначает стоимость билета, за который заплатил пассажир.\n",
        "\n",
        "8. **Embarked:**\n",
        "   - Тип данных: Категориальный (C, Q или S).\n",
        "   - Описание: Показывает порт, в котором пассажир сел на борт (C - Шербур, Q - Квинстаун, S - Саутгемптон)."
      ],
      "metadata": {
        "id": "TrClOb-uRrYH"
      },
      "id": "TrClOb-uRrYH"
    },
    {
      "cell_type": "code",
      "source": [
        "df = pd.read_csv(\"titanic.csv\").drop([\"PassengerId\", \"Ticket\", \"Cabin\", \"Name\"], axis=1)\n",
        "df[\"Embarked\"] = df[\"Embarked\"].fillna(\"\")\n",
        "df = df.fillna(0)\n",
        "df.head()"
      ],
      "metadata": {
        "colab": {
          "base_uri": "https://localhost:8080/",
          "height": 206
        },
        "id": "vef7tA_cRFc-",
        "outputId": "feb7a5a1-a78c-4aa5-e276-5ef9b94bbf25"
      },
      "id": "vef7tA_cRFc-",
      "execution_count": 31,
      "outputs": [
        {
          "output_type": "execute_result",
          "data": {
            "text/plain": [
              "   Survived  Pclass     Sex   Age  SibSp  Parch     Fare Embarked\n",
              "0         0       3    male  22.0      1      0   7.2500        S\n",
              "1         1       1  female  38.0      1      0  71.2833        C\n",
              "2         1       3  female  26.0      0      0   7.9250        S\n",
              "3         1       1  female  35.0      1      0  53.1000        S\n",
              "4         0       3    male  35.0      0      0   8.0500        S"
            ],
            "text/html": [
              "\n",
              "  <div id=\"df-74d5d5a1-b1eb-45ef-bdaa-b99a0ca1a31d\" class=\"colab-df-container\">\n",
              "    <div>\n",
              "<style scoped>\n",
              "    .dataframe tbody tr th:only-of-type {\n",
              "        vertical-align: middle;\n",
              "    }\n",
              "\n",
              "    .dataframe tbody tr th {\n",
              "        vertical-align: top;\n",
              "    }\n",
              "\n",
              "    .dataframe thead th {\n",
              "        text-align: right;\n",
              "    }\n",
              "</style>\n",
              "<table border=\"1\" class=\"dataframe\">\n",
              "  <thead>\n",
              "    <tr style=\"text-align: right;\">\n",
              "      <th></th>\n",
              "      <th>Survived</th>\n",
              "      <th>Pclass</th>\n",
              "      <th>Sex</th>\n",
              "      <th>Age</th>\n",
              "      <th>SibSp</th>\n",
              "      <th>Parch</th>\n",
              "      <th>Fare</th>\n",
              "      <th>Embarked</th>\n",
              "    </tr>\n",
              "  </thead>\n",
              "  <tbody>\n",
              "    <tr>\n",
              "      <th>0</th>\n",
              "      <td>0</td>\n",
              "      <td>3</td>\n",
              "      <td>male</td>\n",
              "      <td>22.0</td>\n",
              "      <td>1</td>\n",
              "      <td>0</td>\n",
              "      <td>7.2500</td>\n",
              "      <td>S</td>\n",
              "    </tr>\n",
              "    <tr>\n",
              "      <th>1</th>\n",
              "      <td>1</td>\n",
              "      <td>1</td>\n",
              "      <td>female</td>\n",
              "      <td>38.0</td>\n",
              "      <td>1</td>\n",
              "      <td>0</td>\n",
              "      <td>71.2833</td>\n",
              "      <td>C</td>\n",
              "    </tr>\n",
              "    <tr>\n",
              "      <th>2</th>\n",
              "      <td>1</td>\n",
              "      <td>3</td>\n",
              "      <td>female</td>\n",
              "      <td>26.0</td>\n",
              "      <td>0</td>\n",
              "      <td>0</td>\n",
              "      <td>7.9250</td>\n",
              "      <td>S</td>\n",
              "    </tr>\n",
              "    <tr>\n",
              "      <th>3</th>\n",
              "      <td>1</td>\n",
              "      <td>1</td>\n",
              "      <td>female</td>\n",
              "      <td>35.0</td>\n",
              "      <td>1</td>\n",
              "      <td>0</td>\n",
              "      <td>53.1000</td>\n",
              "      <td>S</td>\n",
              "    </tr>\n",
              "    <tr>\n",
              "      <th>4</th>\n",
              "      <td>0</td>\n",
              "      <td>3</td>\n",
              "      <td>male</td>\n",
              "      <td>35.0</td>\n",
              "      <td>0</td>\n",
              "      <td>0</td>\n",
              "      <td>8.0500</td>\n",
              "      <td>S</td>\n",
              "    </tr>\n",
              "  </tbody>\n",
              "</table>\n",
              "</div>\n",
              "    <div class=\"colab-df-buttons\">\n",
              "\n",
              "  <div class=\"colab-df-container\">\n",
              "    <button class=\"colab-df-convert\" onclick=\"convertToInteractive('df-74d5d5a1-b1eb-45ef-bdaa-b99a0ca1a31d')\"\n",
              "            title=\"Convert this dataframe to an interactive table.\"\n",
              "            style=\"display:none;\">\n",
              "\n",
              "  <svg xmlns=\"http://www.w3.org/2000/svg\" height=\"24px\" viewBox=\"0 -960 960 960\">\n",
              "    <path d=\"M120-120v-720h720v720H120Zm60-500h600v-160H180v160Zm220 220h160v-160H400v160Zm0 220h160v-160H400v160ZM180-400h160v-160H180v160Zm440 0h160v-160H620v160ZM180-180h160v-160H180v160Zm440 0h160v-160H620v160Z\"/>\n",
              "  </svg>\n",
              "    </button>\n",
              "\n",
              "  <style>\n",
              "    .colab-df-container {\n",
              "      display:flex;\n",
              "      gap: 12px;\n",
              "    }\n",
              "\n",
              "    .colab-df-convert {\n",
              "      background-color: #E8F0FE;\n",
              "      border: none;\n",
              "      border-radius: 50%;\n",
              "      cursor: pointer;\n",
              "      display: none;\n",
              "      fill: #1967D2;\n",
              "      height: 32px;\n",
              "      padding: 0 0 0 0;\n",
              "      width: 32px;\n",
              "    }\n",
              "\n",
              "    .colab-df-convert:hover {\n",
              "      background-color: #E2EBFA;\n",
              "      box-shadow: 0px 1px 2px rgba(60, 64, 67, 0.3), 0px 1px 3px 1px rgba(60, 64, 67, 0.15);\n",
              "      fill: #174EA6;\n",
              "    }\n",
              "\n",
              "    .colab-df-buttons div {\n",
              "      margin-bottom: 4px;\n",
              "    }\n",
              "\n",
              "    [theme=dark] .colab-df-convert {\n",
              "      background-color: #3B4455;\n",
              "      fill: #D2E3FC;\n",
              "    }\n",
              "\n",
              "    [theme=dark] .colab-df-convert:hover {\n",
              "      background-color: #434B5C;\n",
              "      box-shadow: 0px 1px 3px 1px rgba(0, 0, 0, 0.15);\n",
              "      filter: drop-shadow(0px 1px 2px rgba(0, 0, 0, 0.3));\n",
              "      fill: #FFFFFF;\n",
              "    }\n",
              "  </style>\n",
              "\n",
              "    <script>\n",
              "      const buttonEl =\n",
              "        document.querySelector('#df-74d5d5a1-b1eb-45ef-bdaa-b99a0ca1a31d button.colab-df-convert');\n",
              "      buttonEl.style.display =\n",
              "        google.colab.kernel.accessAllowed ? 'block' : 'none';\n",
              "\n",
              "      async function convertToInteractive(key) {\n",
              "        const element = document.querySelector('#df-74d5d5a1-b1eb-45ef-bdaa-b99a0ca1a31d');\n",
              "        const dataTable =\n",
              "          await google.colab.kernel.invokeFunction('convertToInteractive',\n",
              "                                                    [key], {});\n",
              "        if (!dataTable) return;\n",
              "\n",
              "        const docLinkHtml = 'Like what you see? Visit the ' +\n",
              "          '<a target=\"_blank\" href=https://colab.research.google.com/notebooks/data_table.ipynb>data table notebook</a>'\n",
              "          + ' to learn more about interactive tables.';\n",
              "        element.innerHTML = '';\n",
              "        dataTable['output_type'] = 'display_data';\n",
              "        await google.colab.output.renderOutput(dataTable, element);\n",
              "        const docLink = document.createElement('div');\n",
              "        docLink.innerHTML = docLinkHtml;\n",
              "        element.appendChild(docLink);\n",
              "      }\n",
              "    </script>\n",
              "  </div>\n",
              "\n",
              "\n",
              "<div id=\"df-869644e4-d335-456d-a318-bc7bfd862192\">\n",
              "  <button class=\"colab-df-quickchart\" onclick=\"quickchart('df-869644e4-d335-456d-a318-bc7bfd862192')\"\n",
              "            title=\"Suggest charts\"\n",
              "            style=\"display:none;\">\n",
              "\n",
              "<svg xmlns=\"http://www.w3.org/2000/svg\" height=\"24px\"viewBox=\"0 0 24 24\"\n",
              "     width=\"24px\">\n",
              "    <g>\n",
              "        <path d=\"M19 3H5c-1.1 0-2 .9-2 2v14c0 1.1.9 2 2 2h14c1.1 0 2-.9 2-2V5c0-1.1-.9-2-2-2zM9 17H7v-7h2v7zm4 0h-2V7h2v10zm4 0h-2v-4h2v4z\"/>\n",
              "    </g>\n",
              "</svg>\n",
              "  </button>\n",
              "\n",
              "<style>\n",
              "  .colab-df-quickchart {\n",
              "      --bg-color: #E8F0FE;\n",
              "      --fill-color: #1967D2;\n",
              "      --hover-bg-color: #E2EBFA;\n",
              "      --hover-fill-color: #174EA6;\n",
              "      --disabled-fill-color: #AAA;\n",
              "      --disabled-bg-color: #DDD;\n",
              "  }\n",
              "\n",
              "  [theme=dark] .colab-df-quickchart {\n",
              "      --bg-color: #3B4455;\n",
              "      --fill-color: #D2E3FC;\n",
              "      --hover-bg-color: #434B5C;\n",
              "      --hover-fill-color: #FFFFFF;\n",
              "      --disabled-bg-color: #3B4455;\n",
              "      --disabled-fill-color: #666;\n",
              "  }\n",
              "\n",
              "  .colab-df-quickchart {\n",
              "    background-color: var(--bg-color);\n",
              "    border: none;\n",
              "    border-radius: 50%;\n",
              "    cursor: pointer;\n",
              "    display: none;\n",
              "    fill: var(--fill-color);\n",
              "    height: 32px;\n",
              "    padding: 0;\n",
              "    width: 32px;\n",
              "  }\n",
              "\n",
              "  .colab-df-quickchart:hover {\n",
              "    background-color: var(--hover-bg-color);\n",
              "    box-shadow: 0 1px 2px rgba(60, 64, 67, 0.3), 0 1px 3px 1px rgba(60, 64, 67, 0.15);\n",
              "    fill: var(--button-hover-fill-color);\n",
              "  }\n",
              "\n",
              "  .colab-df-quickchart-complete:disabled,\n",
              "  .colab-df-quickchart-complete:disabled:hover {\n",
              "    background-color: var(--disabled-bg-color);\n",
              "    fill: var(--disabled-fill-color);\n",
              "    box-shadow: none;\n",
              "  }\n",
              "\n",
              "  .colab-df-spinner {\n",
              "    border: 2px solid var(--fill-color);\n",
              "    border-color: transparent;\n",
              "    border-bottom-color: var(--fill-color);\n",
              "    animation:\n",
              "      spin 1s steps(1) infinite;\n",
              "  }\n",
              "\n",
              "  @keyframes spin {\n",
              "    0% {\n",
              "      border-color: transparent;\n",
              "      border-bottom-color: var(--fill-color);\n",
              "      border-left-color: var(--fill-color);\n",
              "    }\n",
              "    20% {\n",
              "      border-color: transparent;\n",
              "      border-left-color: var(--fill-color);\n",
              "      border-top-color: var(--fill-color);\n",
              "    }\n",
              "    30% {\n",
              "      border-color: transparent;\n",
              "      border-left-color: var(--fill-color);\n",
              "      border-top-color: var(--fill-color);\n",
              "      border-right-color: var(--fill-color);\n",
              "    }\n",
              "    40% {\n",
              "      border-color: transparent;\n",
              "      border-right-color: var(--fill-color);\n",
              "      border-top-color: var(--fill-color);\n",
              "    }\n",
              "    60% {\n",
              "      border-color: transparent;\n",
              "      border-right-color: var(--fill-color);\n",
              "    }\n",
              "    80% {\n",
              "      border-color: transparent;\n",
              "      border-right-color: var(--fill-color);\n",
              "      border-bottom-color: var(--fill-color);\n",
              "    }\n",
              "    90% {\n",
              "      border-color: transparent;\n",
              "      border-bottom-color: var(--fill-color);\n",
              "    }\n",
              "  }\n",
              "</style>\n",
              "\n",
              "  <script>\n",
              "    async function quickchart(key) {\n",
              "      const quickchartButtonEl =\n",
              "        document.querySelector('#' + key + ' button');\n",
              "      quickchartButtonEl.disabled = true;  // To prevent multiple clicks.\n",
              "      quickchartButtonEl.classList.add('colab-df-spinner');\n",
              "      try {\n",
              "        const charts = await google.colab.kernel.invokeFunction(\n",
              "            'suggestCharts', [key], {});\n",
              "      } catch (error) {\n",
              "        console.error('Error during call to suggestCharts:', error);\n",
              "      }\n",
              "      quickchartButtonEl.classList.remove('colab-df-spinner');\n",
              "      quickchartButtonEl.classList.add('colab-df-quickchart-complete');\n",
              "    }\n",
              "    (() => {\n",
              "      let quickchartButtonEl =\n",
              "        document.querySelector('#df-869644e4-d335-456d-a318-bc7bfd862192 button');\n",
              "      quickchartButtonEl.style.display =\n",
              "        google.colab.kernel.accessAllowed ? 'block' : 'none';\n",
              "    })();\n",
              "  </script>\n",
              "</div>\n",
              "    </div>\n",
              "  </div>\n"
            ]
          },
          "metadata": {},
          "execution_count": 31
        }
      ]
    },
    {
      "cell_type": "markdown",
      "source": [
        "Предобработка данных. Присваиваем численные значения."
      ],
      "metadata": {
        "id": "pj9d2f-mSBlt"
      },
      "id": "pj9d2f-mSBlt"
    },
    {
      "cell_type": "code",
      "source": [
        "df[\"Sex\"] = df[\"Sex\"] == \"male\"\n",
        "encoder = LabelEncoder()\n",
        "df[\"Embarked\"] = encoder.fit_transform(df[\"Embarked\"])\n",
        "for col in df.columns[1:]:\n",
        "    scaler = MinMaxScaler()\n",
        "    df[col] = scaler.fit_transform(df[col].values.reshape(-1, 1))\n",
        "df = df.astype(float)"
      ],
      "metadata": {
        "id": "-ntiVHvFS9li"
      },
      "id": "-ntiVHvFS9li",
      "execution_count": 32,
      "outputs": []
    },
    {
      "cell_type": "markdown",
      "source": [
        " Разбиваем данные. Будем определять выжил ли пассажир или нет в зависимости от его характеристик."
      ],
      "metadata": {
        "id": "gctZICyvTAaS"
      },
      "id": "gctZICyvTAaS"
    },
    {
      "cell_type": "code",
      "source": [
        "X = df.drop(\"Survived\", axis=1)\n",
        "y = df[\"Survived\"].values.reshape(-1)\n",
        "\n",
        "X_train, X_test, y_train, y_test = train_test_split(X, y, test_size=0.2, random_state=42)\n",
        "\n",
        "# преобразуем массив в нужную форму\n",
        "y_train = y_train.reshape(-1, 1)\n",
        "y_test = y_test.reshape(-1, 1)"
      ],
      "metadata": {
        "id": "kXx7LtKgRCDR"
      },
      "id": "kXx7LtKgRCDR",
      "execution_count": 33,
      "outputs": []
    },
    {
      "cell_type": "markdown",
      "source": [
        "### Работа нейронной сети"
      ],
      "metadata": {
        "id": "PUJiklDvTp7U"
      },
      "id": "PUJiklDvTp7U"
    },
    {
      "cell_type": "code",
      "execution_count": 34,
      "id": "12cc4e97-b5cf-49a0-8e4e-d905fa2c9369",
      "metadata": {
        "id": "12cc4e97-b5cf-49a0-8e4e-d905fa2c9369",
        "colab": {
          "base_uri": "https://localhost:8080/"
        },
        "outputId": "9eed8521-b9be-4688-b174-63c90c4ee46b"
      },
      "outputs": [
        {
          "output_type": "stream",
          "name": "stdout",
          "text": [
            "Epoch: 0. Loss: 3.6689551305106654\n",
            "Epoch: 50. Loss: 0.634643846357754\n",
            "Epoch: 100. Loss: 0.6254319726921059\n",
            "Epoch: 150. Loss: 0.6132367933603405\n",
            "Epoch: 200. Loss: 0.5954521282702302\n",
            "Epoch: 250. Loss: 0.5694506246151404\n",
            "Epoch: 300. Loss: 0.5362473171523063\n",
            "Epoch: 350. Loss: 0.5052029017493985\n",
            "Epoch: 400. Loss: 0.4860597977373881\n",
            "Epoch: 450. Loss: 0.477370021449194\n",
            "Epoch: 500. Loss: 0.4734271060785178\n",
            "Epoch: 550. Loss: 0.4710972973641341\n",
            "Epoch: 600. Loss: 0.4693094808883117\n",
            "Epoch: 650. Loss: 0.46774314643334763\n",
            "Epoch: 700. Loss: 0.46629945504938847\n",
            "Epoch: 750. Loss: 0.46494524920022706\n",
            "Epoch: 800. Loss: 0.46366863615872544\n",
            "Epoch: 850. Loss: 0.4624652859033284\n",
            "Epoch: 900. Loss: 0.4613337066252983\n",
            "Epoch: 950. Loss: 0.46027343779341945\n",
            "Epoch: 1000. Loss: 0.4592842838469807\n",
            "Epoch: 1050. Loss: 0.4583659460932885\n",
            "Epoch: 1100. Loss: 0.4575178205598772\n",
            "Epoch: 1150. Loss: 0.45673887742341984\n",
            "Epoch: 1200. Loss: 0.4560275922732013\n",
            "Epoch: 1250. Loss: 0.4553819187375378\n",
            "Epoch: 1300. Loss: 0.45479929755872384\n",
            "Epoch: 1350. Loss: 0.45427669759526995\n",
            "Epoch: 1400. Loss: 0.45381068299417143\n",
            "Epoch: 1450. Loss: 0.4533974994455653\n",
            "Epoch: 1500. Loss: 0.4530331716746937\n",
            "Epoch: 1550. Loss: 0.45271360436772995\n",
            "Epoch: 1600. Loss: 0.45243467953365823\n",
            "Epoch: 1650. Loss: 0.45219234468348385\n",
            "Epoch: 1700. Loss: 0.4519826878991281\n",
            "Epoch: 1750. Loss: 0.4518019976048721\n",
            "Epoch: 1800. Loss: 0.4516468064302413\n",
            "Epoch: 1850. Loss: 0.451513919824977\n",
            "Epoch: 1900. Loss: 0.4514004309919315\n",
            "Epoch: 1950. Loss: 0.45130372424507303\n",
            "Epoch: 2000. Loss: 0.4512214691246943\n",
            "Epoch: 2050. Loss: 0.45115160758119954\n",
            "Epoch: 2100. Loss: 0.4510923363489496\n",
            "Epoch: 2150. Loss: 0.4510420863425436\n",
            "Epoch: 2200. Loss: 0.45099950057637983\n",
            "Epoch: 2250. Loss: 0.45096341177585453\n",
            "Epoch: 2300. Loss: 0.45093282054210565\n",
            "Epoch: 2350. Loss: 0.450906874666698\n",
            "Epoch: 2400. Loss: 0.450884849973963\n",
            "Epoch: 2450. Loss: 0.4508661328965187\n",
            "Epoch: 2500. Loss: 0.45085020485978905\n",
            "Epoch: 2550. Loss: 0.45083662845812184\n",
            "Epoch: 2600. Loss: 0.45082503534186064\n",
            "Epoch: 2650. Loss: 0.45081511569505694\n",
            "Epoch: 2700. Loss: 0.4508066091617435\n",
            "Epoch: 2750. Loss: 0.45079929706997685\n",
            "Epoch: 2800. Loss: 0.4507929958032725\n",
            "Epoch: 2850. Loss: 0.4507875511755149\n",
            "Epoch: 2900. Loss: 0.45078283367558597\n",
            "Epoch: 2950. Loss: 0.4507787344601083\n",
            "Epoch: 3000. Loss: 0.45077516198561873\n",
            "Epoch: 3050. Loss: 0.45077203918434705\n",
            "Epoch: 3100. Loss: 0.4507693011000477\n",
            "Epoch: 3150. Loss: 0.4507668929116798\n",
            "Epoch: 3200. Loss: 0.45076476828302464\n",
            "Epoch: 3250. Loss: 0.4507628879854742\n",
            "Epoch: 3300. Loss: 0.4507612187492663\n",
            "Epoch: 3350. Loss: 0.4507597323054234\n",
            "Epoch: 3400. Loss: 0.45075840458666744\n",
            "Epoch: 3450. Loss: 0.45075721506071575\n",
            "Epoch: 3500. Loss: 0.4507561461737342\n",
            "Epoch: 3550. Loss: 0.45075518288540833\n",
            "Epoch: 3600. Loss: 0.4507543122801985\n",
            "Epoch: 3650. Loss: 0.4507535232419476\n",
            "Epoch: 3700. Loss: 0.45075280618118113\n",
            "Epoch: 3750. Loss: 0.4507521528062585\n",
            "Epoch: 3800. Loss: 0.45075155593103655\n",
            "Epoch: 3850. Loss: 0.4507510093129625\n",
            "Epoch: 3900. Loss: 0.4507505075165521\n",
            "Epoch: 3950. Loss: 0.45075004579806566\n",
            "Epoch: 4000. Loss: 0.45074962000791446\n",
            "Epoch: 4050. Loss: 0.4507492265079106\n",
            "Epoch: 4100. Loss: 0.4507488621009682\n",
            "Epoch: 4150. Loss: 0.4507485239712645\n",
            "Epoch: 4200. Loss: 0.45074820963319906\n",
            "Epoch: 4250. Loss: 0.4507479168877751\n",
            "Epoch: 4300. Loss: 0.4507476437852444\n",
            "Epoch: 4350. Loss: 0.4507473885930534\n",
            "Epoch: 4400. Loss: 0.45074714976828645\n",
            "Epoch: 4450. Loss: 0.45074692593392296\n",
            "Epoch: 4500. Loss: 0.45074671585834747\n",
            "Epoch: 4550. Loss: 0.4507465184376292\n",
            "Epoch: 4600. Loss: 0.4507463326801696\n",
            "Epoch: 4650. Loss: 0.45074615769337734\n",
            "Epoch: 4700. Loss: 0.4507459926720839\n",
            "Epoch: 4750. Loss: 0.45074583688845093\n",
            "Epoch: 4800. Loss: 0.450745689683168\n",
            "Epoch: 4850. Loss: 0.4507455504577584\n",
            "Epoch: 4900. Loss: 0.45074541866784523\n",
            "Epoch: 4950. Loss: 0.45074529381724804\n",
            "Epoch: 5000. Loss: 0.4507451754528002\n",
            "Epoch: 5050. Loss: 0.45074506315979046\n",
            "Epoch: 5100. Loss: 0.4507449565579501\n",
            "Epoch: 5150. Loss: 0.4507448552979131\n",
            "Epoch: 5200. Loss: 0.4507447590580906\n",
            "Epoch: 5250. Loss: 0.45074466754190634\n",
            "Epoch: 5300. Loss: 0.4507445804753478\n",
            "Epoch: 5350. Loss: 0.45074449760479535\n",
            "Epoch: 5400. Loss: 0.45074441869509263\n",
            "Epoch: 5450. Loss: 0.4507443435278324\n",
            "Epoch: 5500. Loss: 0.4507442718998279\n",
            "Epoch: 5550. Loss: 0.45074420362175005\n",
            "Epoch: 5600. Loss: 0.4507441385169111\n",
            "Epoch: 5650. Loss: 0.45074407642017456\n",
            "Epoch: 5700. Loss: 0.4507440171769804\n",
            "Epoch: 5750. Loss: 0.45074396064246997\n",
            "Epoch: 5800. Loss: 0.4507439066806983\n",
            "Epoch: 5850. Loss: 0.4507438551639277\n",
            "Epoch: 5900. Loss: 0.4507438059719885\n",
            "Epoch: 5950. Loss: 0.45074375899170294\n",
            "Epoch: 6000. Loss: 0.45074371411636444\n",
            "Epoch: 6050. Loss: 0.450743671245265\n",
            "Epoch: 6100. Loss: 0.4507436302832672\n",
            "Epoch: 6150. Loss: 0.450743591140414\n",
            "Epoch: 6200. Loss: 0.4507435537315749\n",
            "Epoch: 6250. Loss: 0.45074351797612194\n",
            "Epoch: 6300. Loss: 0.45074348379763396\n",
            "Epoch: 6350. Loss: 0.45074345112362624\n",
            "Epoch: 6400. Loss: 0.4507434198853019\n",
            "Epoch: 6450. Loss: 0.45074339001732455\n",
            "Epoch: 6500. Loss: 0.4507433614576076\n",
            "Epoch: 6550. Loss: 0.4507433341471214\n",
            "Epoch: 6600. Loss: 0.45074330802971435\n",
            "Epoch: 6650. Loss: 0.45074328305194766\n",
            "Epoch: 6700. Loss: 0.45074325916294217\n",
            "Epoch: 6750. Loss: 0.45074323631423624\n",
            "Epoch: 6800. Loss: 0.45074321445965354\n",
            "Epoch: 6850. Loss: 0.4507431935551798\n",
            "Epoch: 6900. Loss: 0.45074317355884885\n",
            "Epoch: 6950. Loss: 0.45074315443063445\n",
            "Epoch: 7000. Loss: 0.4507431361323506\n",
            "Epoch: 7050. Loss: 0.4507431186275575\n",
            "Epoch: 7100. Loss: 0.45074310188147393\n",
            "Epoch: 7150. Loss: 0.4507430858608936\n",
            "Epoch: 7200. Loss: 0.45074307053410867\n",
            "Epoch: 7250. Loss: 0.4507430558708358\n",
            "Epoch: 7300. Loss: 0.45074304184214736\n",
            "Epoch: 7350. Loss: 0.4507430284204065\n",
            "Epoch: 7400. Loss: 0.4507430155792056\n",
            "Epoch: 7450. Loss: 0.45074300329330896\n",
            "Epoch: 7500. Loss: 0.4507429915385968\n",
            "Epoch: 7550. Loss: 0.45074298029201404\n",
            "Epoch: 7600. Loss: 0.4507429695315208\n",
            "Epoch: 7650. Loss: 0.45074295923604607\n",
            "Epoch: 7700. Loss: 0.4507429493854428\n",
            "Epoch: 7750. Loss: 0.45074293996044645\n",
            "Epoch: 7800. Loss: 0.45074293094263496\n",
            "Epoch: 7850. Loss: 0.45074292231439006\n",
            "Epoch: 7900. Loss: 0.45074291405886213\n",
            "Epoch: 7950. Loss: 0.45074290615993534\n",
            "Epoch: 8000. Loss: 0.4507428986021949\n",
            "Epoch: 8050. Loss: 0.45074289137089607\n",
            "Epoch: 8100. Loss: 0.45074288445193417\n",
            "Epoch: 8150. Loss: 0.450742877831817\n",
            "Epoch: 8200. Loss: 0.4507428714976367\n",
            "Epoch: 8250. Loss: 0.45074286543704506\n",
            "Epoch: 8300. Loss: 0.4507428596382285\n",
            "Epoch: 8350. Loss: 0.4507428540898848\n",
            "Epoch: 8400. Loss: 0.4507428487812004\n",
            "Epoch: 8450. Loss: 0.45074284370182954\n",
            "Epoch: 8500. Loss: 0.45074283884187366\n",
            "Epoch: 8550. Loss: 0.45074283419186173\n",
            "Epoch: 8600. Loss: 0.4507428297427317\n",
            "Epoch: 8650. Loss: 0.4507428254858133\n",
            "Epoch: 8700. Loss: 0.45074282141281025\n",
            "Epoch: 8750. Loss: 0.45074281751578416\n",
            "Epoch: 8800. Loss: 0.45074281378713993\n",
            "Epoch: 8850. Loss: 0.4507428102196093\n",
            "Epoch: 8900. Loss: 0.4507428068062382\n",
            "Epoch: 8950. Loss: 0.4507428035403726\n"
          ]
        }
      ],
      "source": [
        "# Создаём модель\n",
        "model = Model()\n",
        "\n",
        "# Добавляем слои. Чередуем их для извлечения возможных сложных зависимостей. Количество нейронов в промежуточных слоях выбрано случайно.\n",
        "model.add(Linear(X.shape[1], 5)) # рецепторов столько же сколько признаков (7), 5 выходов\n",
        "model.add(ReLU(5)) # к каждому выходу прошлого слоя применяем ReLu (5 входов), и, в итоге, получается слой с 5 выходами\n",
        "\n",
        "model.add(Linear(5,2)) # новый слой с 5 входами (прошлые от ReLu) и выход 2 нейрона\n",
        "model.add(ReLU(2)) # к каждому выходу прошлого слоя применяем ReLu (2 входа), и, в итоге, получается слой с 2 выходами\n",
        "\n",
        "model.add(Linear(2,1)) # сводим всё к одному нейрону\n",
        "model.add(Sigmoid(1))\n",
        "\n",
        "# Обучаем модель\n",
        "error = model.train(X_train = X.T.to_numpy(),\n",
        "            Y_train = y,\n",
        "            learning_rate = 0.05, # величина шага обновления коэффициентов (на сколько сильно обновляются веса), влияет на скорость обучения\n",
        "            epochs=9000,\n",
        "            verbose=True)"
      ]
    },
    {
      "cell_type": "markdown",
      "source": [
        "Вывод коэффициентов каждого линейного слоя. По матрице: один массив - коэффициенты от каждого входа к одному выходу."
      ],
      "metadata": {
        "id": "_gzsh3anYCIO"
      },
      "id": "_gzsh3anYCIO"
    },
    {
      "cell_type": "code",
      "source": [
        "model.layers[0].weights"
      ],
      "metadata": {
        "colab": {
          "base_uri": "https://localhost:8080/"
        },
        "id": "MaefxFJOXwjO",
        "outputId": "e9fd241f-edca-4831-d15d-b4ef9d3b2689"
      },
      "id": "MaefxFJOXwjO",
      "execution_count": 35,
      "outputs": [
        {
          "output_type": "execute_result",
          "data": {
            "text/plain": [
              "array([[ 0.74790273,  1.11385446,  0.46625044,  1.18527949,  0.57479106,\n",
              "         0.12841505,  0.51287638],\n",
              "       [ 0.15133692,  0.33472333,  0.53078817, -0.09737578,  0.30529567,\n",
              "         0.42303675,  0.06454898],\n",
              "       [-0.3401331 , -0.20347305,  0.05555902, -0.29831937,  0.59472212,\n",
              "         0.4957019 ,  0.4435278 ],\n",
              "       [ 0.36729972,  0.99033967,  0.81822247,  0.95087765,  0.60362966,\n",
              "         0.55235218,  0.85053558],\n",
              "       [ 0.03445115,  0.04591936, -0.07328149,  0.55163116, -0.19791635,\n",
              "         0.3223364 ,  0.02490187]])"
            ]
          },
          "metadata": {},
          "execution_count": 35
        }
      ]
    },
    {
      "cell_type": "code",
      "source": [
        "model.layers[2].weights"
      ],
      "metadata": {
        "colab": {
          "base_uri": "https://localhost:8080/"
        },
        "id": "UbWGqIXnXz5A",
        "outputId": "020ef064-fa57-4fc1-df30-ab6ba1d1cb20"
      },
      "id": "UbWGqIXnXz5A",
      "execution_count": 36,
      "outputs": [
        {
          "output_type": "execute_result",
          "data": {
            "text/plain": [
              "array([[ 0.68097834,  0.6133913 , -0.29573003,  0.89111271,  0.29227986],\n",
              "       [-0.38622228,  0.52087786,  1.13275865, -0.36360995,  1.20271922]])"
            ]
          },
          "metadata": {},
          "execution_count": 36
        }
      ]
    },
    {
      "cell_type": "code",
      "source": [
        "model.layers[4].weights"
      ],
      "metadata": {
        "colab": {
          "base_uri": "https://localhost:8080/"
        },
        "id": "oUP4KGIgX8EK",
        "outputId": "944b1ad3-2205-48cf-8e61-9bb9c7a0d736"
      },
      "id": "oUP4KGIgX8EK",
      "execution_count": 37,
      "outputs": [
        {
          "output_type": "execute_result",
          "data": {
            "text/plain": [
              "array([[-0.65724394,  1.85556181]])"
            ]
          },
          "metadata": {},
          "execution_count": 37
        }
      ]
    },
    {
      "cell_type": "markdown",
      "source": [
        "График функции потерь:"
      ],
      "metadata": {
        "id": "a60eePuyYT1T"
      },
      "id": "a60eePuyYT1T"
    },
    {
      "cell_type": "code",
      "source": [
        "plt.plot(error)\n",
        "plt.title(\"Loss\")\n",
        "plt.xlabel(\"Epoch\")"
      ],
      "metadata": {
        "colab": {
          "base_uri": "https://localhost:8080/",
          "height": 490
        },
        "id": "4FRTzs2KYRM0",
        "outputId": "ab3c2667-6bfd-4a7c-89a0-f058c45aaf03"
      },
      "id": "4FRTzs2KYRM0",
      "execution_count": 38,
      "outputs": [
        {
          "output_type": "execute_result",
          "data": {
            "text/plain": [
              "Text(0.5, 0, 'Epoch')"
            ]
          },
          "metadata": {},
          "execution_count": 38
        },
        {
          "output_type": "display_data",
          "data": {
            "text/plain": [
              "<Figure size 640x480 with 1 Axes>"
            ],
            "image/png": "[encoded data removed]"
          },
          "metadata": {}
        }
      ]
    },
    {
      "cell_type": "markdown",
      "source": [
        "Проверим на тестовых данных, посмотрим точность модели:"
      ],
      "metadata": {
        "id": "R6xX1rGdYfYY"
      },
      "id": "R6xX1rGdYfYY"
    },
    {
      "cell_type": "code",
      "source": [
        "print(\"accuracy\", accuracy_score(model.predict(X_test.T.to_numpy()).reshape(-1) > 0.5, y_test.reshape(-1)))"
      ],
      "metadata": {
        "colab": {
          "base_uri": "https://localhost:8080/"
        },
        "id": "8gEYlXjRXy1j",
        "outputId": "b41c42f1-80a8-4e2c-ef1a-22b771d69af5"
      },
      "id": "8gEYlXjRXy1j",
      "execution_count": 39,
      "outputs": [
        {
          "output_type": "stream",
          "name": "stdout",
          "text": [
            "accuracy 0.7821229050279329\n"
          ]
        }
      ]
    }
  ],
  "metadata": {
    "kernelspec": {
      "display_name": "Python 3 (ipykernel)",
      "language": "python",
      "name": "python3"
    },
    "language_info": {
      "codemirror_mode": {
        "name": "ipython",
        "version": 3
      },
      "file_extension": ".py",
      "mimetype": "text/x-python",
      "name": "python",
      "nbconvert_exporter": "python",
      "pygments_lexer": "ipython3",
      "version": "3.10.4"
    },
    "colab": {
      "provenance": []
    }
  },
  "nbformat": 4,
  "nbformat_minor": 5
}